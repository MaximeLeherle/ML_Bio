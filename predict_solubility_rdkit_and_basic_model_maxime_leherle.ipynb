{
  "cells": [
    {
      "cell_type": "code",
      "source": [
        "!rm *"
      ],
      "metadata": {
        "colab": {
          "base_uri": "https://localhost:8080/"
        },
        "id": "ntqFnIuwD-JR",
        "outputId": "4cac0dc8-2503-4130-d6e4-d35b57efc584"
      },
      "execution_count": 71,
      "outputs": [
        {
          "output_type": "stream",
          "name": "stdout",
          "text": [
            "rm: cannot remove 'sample_data': Is a directory\n"
          ]
        }
      ]
    },
    {
      "cell_type": "markdown",
      "metadata": {
        "id": "UxbRPmkS4LSq"
      },
      "source": [
        "# Machine learning with RDkit - Predict solubility \n",
        "\n",
        "Now that we know how to handle molecule data we will try to do a first machine learning pipeline to predict solubility\n",
        "\n",
        "In this exercise, we will use machine learning to predict solubility of molecules. For this purpose, we will borrow a dataset from rdkit that is originated from the Huuskonen dataset. We will try to predict Aqueous Solubility for molecules that is known as \"logS\". \n",
        "\n",
        "\n",
        "This exercise is divided into 3 parts: Preparing a dataset, training a model and preparing dataset for prediction and applying a predictive model.\n",
        "\n"
      ]
    },
    {
      "cell_type": "markdown",
      "metadata": {
        "id": "FpqVGPg_4QaQ"
      },
      "source": [
        "## Preparing dataset\n",
        "\n",
        "\n",
        "\n",
        "\n",
        "Download the training set from \"https://raw.githubusercontent.com/rdkit/rdkit/master/Docs/Book/data/solubility.train.sdf\".\n",
        "\n"
      ]
    },
    {
      "cell_type": "code",
      "execution_count": 72,
      "metadata": {
        "colab": {
          "base_uri": "https://localhost:8080/"
        },
        "id": "8MXaRsiY4aFr",
        "outputId": "aff366e2-f951-4668-8a8a-21cf2397b51f"
      },
      "outputs": [
        {
          "output_type": "stream",
          "name": "stdout",
          "text": [
            "--2022-04-02 16:16:14--  https://raw.githubusercontent.com/rdkit/rdkit/master/Docs/Book/data/solubility.train.sdf\n",
            "Resolving raw.githubusercontent.com (raw.githubusercontent.com)... 185.199.108.133, 185.199.109.133, 185.199.110.133, ...\n",
            "Connecting to raw.githubusercontent.com (raw.githubusercontent.com)|185.199.108.133|:443... connected.\n",
            "HTTP request sent, awaiting response... 200 OK\n",
            "Length: 1376487 (1.3M) [text/plain]\n",
            "Saving to: ‘solubility.train.sdf’\n",
            "\n",
            "\rsolubility.train.sd   0%[                    ]       0  --.-KB/s               \rsolubility.train.sd 100%[===================>]   1.31M  --.-KB/s    in 0.05s   \n",
            "\n",
            "2022-04-02 16:16:14 (23.9 MB/s) - ‘solubility.train.sdf’ saved [1376487/1376487]\n",
            "\n"
          ]
        }
      ],
      "source": [
        "!wget https://raw.githubusercontent.com/rdkit/rdkit/master/Docs/Book/data/solubility.train.sdf"
      ]
    },
    {
      "cell_type": "code",
      "source": [
        "!ls"
      ],
      "metadata": {
        "colab": {
          "base_uri": "https://localhost:8080/"
        },
        "id": "dMv67rpc64Kt",
        "outputId": "84768f69-792c-41ee-d436-bdb097cfb541"
      },
      "execution_count": 73,
      "outputs": [
        {
          "output_type": "stream",
          "name": "stdout",
          "text": [
            "sample_data  solubility.train.sdf\n"
          ]
        }
      ]
    },
    {
      "cell_type": "code",
      "source": [
        "!pip install numpy"
      ],
      "metadata": {
        "colab": {
          "base_uri": "https://localhost:8080/"
        },
        "id": "we8mIyph79pp",
        "outputId": "bb489d0b-089e-495b-b5ef-528624460e70"
      },
      "execution_count": 74,
      "outputs": [
        {
          "output_type": "stream",
          "name": "stdout",
          "text": [
            "Requirement already satisfied: numpy in /usr/local/lib/python3.7/dist-packages (1.21.5)\n"
          ]
        }
      ]
    },
    {
      "cell_type": "code",
      "source": [
        "!pip install rdkit-pypi"
      ],
      "metadata": {
        "colab": {
          "base_uri": "https://localhost:8080/"
        },
        "id": "pZm0inpX79sy",
        "outputId": "af1a2c1e-8672-4a8d-b839-ba6e92c71979"
      },
      "execution_count": 75,
      "outputs": [
        {
          "output_type": "stream",
          "name": "stdout",
          "text": [
            "Requirement already satisfied: rdkit-pypi in /usr/local/lib/python3.7/dist-packages (2022.3.1)\n",
            "Requirement already satisfied: numpy>=1.19 in /usr/local/lib/python3.7/dist-packages (from rdkit-pypi) (1.21.5)\n",
            "Requirement already satisfied: Pillow in /usr/local/lib/python3.7/dist-packages (from rdkit-pypi) (7.1.2)\n"
          ]
        }
      ]
    },
    {
      "cell_type": "markdown",
      "metadata": {
        "id": "_ifUfEvW4aFs"
      },
      "source": [
        "\n",
        "With the help of rdkit.Chem.SDMolSupplier, get list of molecules contained in this file. You should call this list as **molecule_list**. The option **removeHs=False** should be chosen. \n",
        "\n"
      ]
    },
    {
      "cell_type": "code",
      "execution_count": 76,
      "metadata": {
        "id": "zqUGl96o4aFt"
      },
      "outputs": [],
      "source": [
        "import rdkit\n",
        "from rdkit import Chem\n",
        "\n",
        "molecule_list = Chem.SDMolSupplier('solubility.train.sdf', removeHs=False)"
      ]
    },
    {
      "cell_type": "markdown",
      "metadata": {
        "id": "X8QQjrmu4aFu"
      },
      "source": [
        "\n",
        "Write a function named **calculate_descriptors(mol)** that allows us to calculate descriptors of a molecule. This function takes a Rdkit molecule as input and returns an array vector of descriptors.\n",
        "\n"
      ]
    },
    {
      "cell_type": "code",
      "execution_count": 77,
      "metadata": {
        "id": "gjU2-bVo4aFu"
      },
      "outputs": [],
      "source": [
        "from rdkit.Chem import Descriptors\n",
        "from rdkit.ML.Descriptors.MoleculeDescriptors import MolecularDescriptorCalculator\n",
        "\n",
        "def calculate_descriptors(mol):\n",
        "\n",
        "    all_descriptors = [ desc[0] for desc in Descriptors._descList]\n",
        "\n",
        "    calculator = MolecularDescriptorCalculator(all_descriptors)\n",
        "    calc = calculator.CalcDescriptors(mol)\n",
        "\n",
        "    return calc"
      ]
    },
    {
      "cell_type": "markdown",
      "metadata": {
        "id": "Vo4ZwmP_4aFv"
      },
      "source": [
        "\n",
        "Apply the function **caluclate_descriptors** to the list of molecules **molecule_list** and store the result in a dataframe named **df**. Look at few rows of **df** to see whether the descriptors are calculated.\n",
        "\n",
        "Get alslow the sollubity with the GetProp method\n",
        "\n"
      ]
    },
    {
      "cell_type": "code",
      "execution_count": 78,
      "metadata": {
        "colab": {
          "base_uri": "https://localhost:8080/"
        },
        "id": "yL9Q_3dZ4aFw",
        "outputId": "b53c0de8-e7a8-4466-947a-af28d91198bc"
      },
      "outputs": [
        {
          "output_type": "stream",
          "name": "stdout",
          "text": [
            "        0         1         2         3         4       5       6         7    \\\n",
            "0  2.211806  1.343750  2.211806  1.343750  0.468786  72.151  60.055  72.09390   \n",
            "1  1.500000  1.500000  1.500000  1.500000  0.408362  70.135  60.055  70.07825   \n",
            "2  2.231806  1.355000  2.231806  1.355000  0.462954  86.178  72.066  86.10955   \n",
            "3  2.253472  0.898148  2.253472  0.898148  0.483890  86.178  72.066  86.10955   \n",
            "4  2.243056  0.541667  2.243056  0.541667  0.424482  86.178  72.066  86.10955   \n",
            "\n",
            "   8    9    ...  198  199  200  201  202  203  204  205  206  207  \n",
            "0   32    0  ...    0    0    0    0    0    0    0    0    0    0  \n",
            "1   30    0  ...    0    0    0    0    0    0    0    0    0    0  \n",
            "2   38    0  ...    0    0    0    0    0    0    0    0    1    0  \n",
            "3   38    0  ...    0    0    0    0    0    0    0    0    0    0  \n",
            "4   38    0  ...    0    0    0    0    0    0    0    0    0    0  \n",
            "\n",
            "[5 rows x 208 columns]\n"
          ]
        }
      ],
      "source": [
        "import pandas as pd\n",
        "\n",
        "all_mol_desc = []\n",
        "\n",
        "for mol in molecule_list:\n",
        "    \n",
        "    all_mol_desc.append(calculate_descriptors(mol))\n",
        "\n",
        "df = pd.DataFrame(all_mol_desc)\n",
        "\n",
        "print(df.head())"
      ]
    },
    {
      "cell_type": "markdown",
      "metadata": {
        "id": "9lDnX8_T4aFx"
      },
      "source": [
        "For each molecule from this dataset, we can get the aqueous solubility (logS) via attribute **getProp('SOL')**. Create a list that contains the aqueous solubility of all molecules from the **molecule_list** list. You should call this list by **labels**. Remember to convert these values to float format.\n",
        "\n",
        "\n"
      ]
    },
    {
      "cell_type": "code",
      "execution_count": 79,
      "metadata": {
        "colab": {
          "base_uri": "https://localhost:8080/"
        },
        "id": "dbeYNBrQ4aFx",
        "outputId": "7fe7f563-e0e2-4e1c-cc10-ab20dfe13e15"
      },
      "outputs": [
        {
          "output_type": "stream",
          "name": "stdout",
          "text": [
            "We have the following label :  [-3.18, -2.64, -3.84, -3.74, -3.55, -3.1, -3.3, -4.53, -3.85, -5.24, -3.52, -4.15, -2.54, -2.1, -3.23, -3.24, -3.82, -3.27, -4.44, -5.05, -2.68, -2.03, -1.87, -1.97, -4.0, -1.64, -2.36, -3.01, -4.24, -1.64, -2.21, -2.8, -2.77, -2.82, -3.37, -3.31, -3.2, -3.21, -3.11, -3.27, -4.06, -3.75, -3.77, -3.66, -3.89, -4.0, -4.64, -4.15, -2.82, -4.31, -4.17, -4.91, -5.22, -3.6, -3.77, -3.7, -4.29, -4.74, -4.72, -3.96, -4.14, -4.89, -4.63, -4.92, -5.26, -5.89, -6.96, -6.19, -6.0, -5.96, -6.68, -8.04, -6.74, -8.19, -7.02, -7.8, -8.8, -9.03, -4.97, -4.38, -7.42, -5.17, -6.89, -8.23, -8.0, -8.49, -8.66, -1.0, -0.63, -0.89, -1.17, -1.54, -1.9, -1.91, -3.14, -1.09, -1.6, -1.29, -1.32, -1.68, -2.0, -1.48, -2.18, -2.6, -3.04, -3.67, -1.41, -1.73, -1.59, -2.29, -1.62, -1.6, -1.85, -2.08, -2.38, -1.92, -2.03, -1.96, -2.96, -2.0, -2.43, -2.4, -2.73, -2.63, -2.63, -2.51, -2.69, -3.12, -3.07, -3.81, -2.3, -1.71, -3.12, -4.59, -3.99, -4.81, -1.64, -1.3, -3.22, -1.96, -2.54, -1.36, -6.29, -7.33, -6.18, -1.5, -5.18, -4.23, -1.8, -2.38, -3.13, -3.27, -3.05, -3.04, -3.21, -3.63, -4.07, -3.5, -3.59, -4.0, -4.48, -5.04, -2.31, -2.38, -4.63, -4.57, -2.78, -3.19, -2.54, -1.97, -3.52, -3.52, -2.39, -3.08, -4.54, -4.88, -6.56, -5.27, -5.8, -6.39, -5.25, -5.21, -6.27, -6.25, -6.14, -6.01, -6.26, -6.21, -6.29, -7.28, -7.8, -6.47, -6.57, -7.0, -7.39, -7.25, -6.51, -7.05, -7.32, -7.39, -7.21, -7.43, -8.56, -8.65, -8.6, -8.32, -7.42, -8.71, -7.82, -7.66, -8.42, -7.92, -8.3, -8.94, -9.16, -10.26, -10.41, -11.62, -6.9, -4.14, -3.93, -4.35, 0.0, 0.43, 0.04, -0.6, -0.24, 0.08, -0.47, -0.52, -0.2, -1.24, -0.8, -0.89, -0.7, -0.8, -0.49, -1.11, -1.04, -0.5, -1.17, -0.72, -0.38, -0.41, -0.44, -1.81, -1.47, -1.4, -0.92, -1.52, -1.55, -1.38, -1.08, -1.15, -1.0, -0.89, -0.85, -0.85, -2.39, -2.09, -2.11, -1.72, -1.27, -1.72, -0.74, -2.55, -4.67, -1.38, -0.71, -3.01, -0.88, -2.1, 0.0, 0.81, -0.17, -0.62, -0.4, -0.7, -0.29, -0.92, -1.19, -1.4, -2.41, -3.48, -2.82, -2.22, -2.92, -1.36, -2.39, 0.58, -0.85, -1.3, -1.7, -2.36, 0.57, 0.32, -1.19, -1.63, 0.52, -0.19, -0.8, -1.42, -1.42, -1.3, -2.05, -2.59, -0.83, -1.06, -1.33, -1.83, 0.22, -3.31, -4.43, -1.28, -5.19, 1.22, 0.38, -0.19, 1.0, -1.06, -0.82, -2.3, -4.62, 0.01, -1.77, -1.55, -2.6, -2.06, -0.89, -2.11, -6.81, -2.21, -1.84, 0.28, -2.07, -0.81, -1.86, -1.45, -1.1, -3.55, -3.4, -1.68, -1.47, -0.48, 0.58, 0.52, -0.04, -0.49, -0.14, -0.72, -0.82, -1.01, -0.55, -1.24, -1.36, -1.21, -0.82, -1.89, -2.0, -1.75, -1.92, -2.46, -3.39, -2.71, -0.6, -3.39, -4.1, -0.22, -0.74, -0.8, -2.32, -1.66, -2.67, -2.35, -4.66, -6.96, -5.64, 0.48, -0.39, -0.06, -0.99, -0.66, -0.55, -0.03, -1.62, -1.1, -0.77, -0.43, -1.85, -0.85, -3.96, -5.31, -4.85, -0.59, 0.56, 0.11, -0.82, -4.6, 0.51, 0.74, 0.64, -3.11, -3.64, -4.3, -3.21, -4.28, -3.96, -4.63, -3.99, -3.69, -4.13, -4.71, -4.32, -3.69, -3.77, -4.1, -4.9, -4.71, -1.96, -1.41, -0.96, -1.49, -0.85, -3.15, -0.11, 0.3, -0.7, -0.7, -1.09, -1.55, -2.21, -4.28, -1.57, 0.93, -1.89, -2.59, -1.12, -6.89, -1.7, -0.14, -0.46, -1.85, 0.84, -2.28, -1.71, -1.44, -0.41, -0.42, -0.38, -0.85, -1.21, -0.85, -1.53, -1.7, -3.03, -2.7, -3.51, -2.3, 0.07, 0.38, 0.38, 0.45, 0.36, 0.38, -1.3, -1.42, -1.54, 0.79, 0.01, 0.61, 0.96, -0.91, 1.1, -2.42, -3.36, -0.78, -1.5, -1.45, -5.4, -1.52, -2.42, -2.16, -1.16, 1.1, -2.54, -1.96, -2.39, -2.59, -0.07, -3.81, -2.23, -4.19, -5.01, -2.17, -2.06, -0.13, -4.43, -2.74, -4.35, -2.11, -3.32, -1.39, -1.67, -2.27, -0.63, -4.3, -2.62, -3.05, -1.4, -4.26, -3.22, -2.37, -1.36, -4.15, -1.95, -2.43, -2.52, -1.71, -3.46, -1.64, -2.68, -2.61, -1.89, -1.94, -1.56, -2.18, -4.52, -2.96, -2.64, -3.73, -2.68, -1.76, -1.23, 0.7, -0.42, -2.38, -2.18, -3.18, -1.26, -3.81, -3.0, -3.62, -2.82, -2.58, -4.21, -2.86, -3.6, -3.68, -3.76, -2.93, -4.49, -3.35, -3.14, -2.86, -2.19, -1.57, -3.99, -4.16, -2.81, -5.06, -1.98, -2.1, -3.71, -3.37, -1.07, -2.14, 1.34, -1.52, -1.48, -2.34, -0.17, -4.45, 1.0, 1.07, 1.06, 1.15, -0.31, -0.8, 1.07, 0.23, 0.96, 0.15, -1.0, -2.38, -2.92, -0.8, -1.52, -0.4, 0.97, -0.66, -0.3, 0.1, -0.35, 0.96, 1.12, -0.85, -0.96, 0.94, -0.95, 1.58, 1.11, -0.96, -2.92, -1.33, -1.6, -2.05, -3.28, -1.52, -0.8, -1.8, -2.33, -2.44, -2.49, -0.74, -1.74, -1.01, -3.38, -1.68, -1.96, -2.41, -2.19, -2.37, -1.51, -1.66, -1.52, -3.24, -1.47, -4.92, -4.24, -4.55, -4.06, -3.15, -4.43, -3.38, -2.57, -2.89, -3.52, -3.43, -2.48, -4.77, -2.48, -4.89, -5.46, -5.68, -3.61, -2.18, -2.12, -3.04, -4.0, -0.71, -1.46, -1.77, -2.26, -1.64, -1.74, -2.02, -5.16, 0.43, -6.7, -4.11, -4.23, -4.1, -4.82, -3.68, -4.31, -5.54, -5.14, -6.09, -5.72, -3.37, -3.95, -3.82, -3.64, -4.08, -4.62, -0.36, -4.6, -0.29, -0.96, -0.98, -3.08, -1.78, -1.58, -3.25, -1.3, -2.36, -3.7, -3.4, -8.4, -1.04, -3.01, -3.54, -3.37, -2.98, -4.57, -4.79, -2.99, -3.61, -3.36, -2.23, -3.68, -2.47, -4.37, -3.12, -3.14, -1.23, -3.88, -2.98, -4.88, -0.42, -3.35, -0.46, -2.33, 1.07, -1.24, -1.78, -3.0, -0.96, -3.13, -3.48, -1.59, -3.95, -4.6, -5.4, -3.59, -0.74, -2.39, -0.68, -1.61, -2.09, -1.91, -0.95, -2.24, -3.27, -3.8, -3.84, -2.64, -5.27, -5.35, -4.25, -2.53, -2.06, -1.37, -0.02, -0.4, -0.43, -2.22, -0.9, 1.12, -1.25, -2.28, 0.59, 0.3, -0.83, -1.6, -1.16, -1.5, 1.05, 0.31, 1.08, -0.09, -1.93, -2.29, 1.02, -0.46, -2.12, -2.6, -2.45, -2.43, -0.06, -1.83, -0.55, -2.13, -4.98, 0.02, -1.96, -1.56, -2.63, -0.53, -0.83, -0.2, -0.17, 0.35, -1.47, 1.09, -5.82, -3.33, -3.31, -2.73, -0.12, -0.47, 0.06, -1.11, -0.91, -1.76, -2.36, -0.86, -1.16, -1.76, -2.33, -1.99, -1.87, -0.94, -1.92, -1.39, -3.08, -2.96, -1.6, -2.16, -2.29, -3.26, -1.67, -2.05, -2.8, -1.28, -1.61, -1.43, -1.54, -1.31, -1.41, -0.27, -1.62, -1.84, -0.48, -3.39, -1.56, -0.88, -1.63, -0.45, -2.15, -4.48, -4.47, -4.74, -4.33, -2.62, -0.54, -2.82, -2.07, -2.45, -2.06, -2.23, -2.86, -1.41, -0.93, -2.63, -1.92, -1.8, -1.6, -0.29, -0.02, -1.89, -1.62, -3.3, -5.64, -5.46, -3.12, -5.4, -1.2, -3.77, -3.67, -3.7, -1.89, -1.92, -2.55, -2.08, -3.29, -2.68, -1.23, -3.13, -3.03, -4.19, -0.17, -2.35, -0.73, -1.99, -2.06, -2.18, -1.42, -2.32, -1.64, -1.99, -2.53, -3.03, -2.07, -1.94, -2.7, -2.85, -3.24, -0.62, -2.44, -2.91, 0.36, -2.09, -2.34, -5.74, -2.36, -0.85, -2.3, -1.95, -2.24, -3.4, -4.63, -3.68, -2.7, -4.46, -3.66, -4.04, -3.75, -3.3, -2.82, -3.9, -2.24, -1.83, -3.74, -3.16, -3.39, -3.12, -4.7, -4.17, -2.78, -3.15, -2.56, -2.09, -3.59, -4.47, -3.42, -3.04, -1.22, -4.69, -6.36, -2.78, -6.02, -4.61, -6.51, -4.36, -4.73, -2.93, -2.27, -3.8, -3.68, -2.4, -3.97, -2.52, -1.93, -5.38, -6.34, -2.64, -1.61, -4.11, -2.93, -4.2, -6.05, -4.18, -5.22, -3.94, -4.16, -3.79, -3.78, -2.6, -4.31, -3.09, -2.06, -1.89, -1.6, -1.55, -2.71, -1.89, -4.31, -3.78, -4.16, -4.24, -7.26, -4.93, -4.53, -5.3, -3.46, -3.57, -0.48, -1.91, -4.19, -5.24, -5.28, -1.87, -3.66, -4.84, -5.59, -5.68, -3.89, -3.27, -3.07, -4.74, -5.47, -4.22, -3.48, -4.12, -6.7, -4.4, -3.59, -5.19, -4.46, -3.37, -4.3, -2.82, -0.77, -5.54, -6.29, -2.52, -3.98, -3.85, -4.46, -4.0, -4.65, -2.88, -3.14, -2.87, -5.37, -4.42, -5.24, -4.95, -4.7, -4.58, -5.15, -1.42, -5.51, -3.21]\n"
          ]
        }
      ],
      "source": [
        "labels = []\n",
        "\n",
        "for mol in molecule_list:\n",
        "    labels.append(float(mol.GetProp('SOL')))\n",
        "\n",
        "print(\"We have the following label : \", labels)"
      ]
    },
    {
      "cell_type": "markdown",
      "metadata": {
        "id": "vj5yqsnU4aFy"
      },
      "source": [
        "Plot the histogram of the \"labels\" list to see the distribution of the solubility of molecules. Do you have some comments about the aqueous solubility of molecules ?\n",
        "\n"
      ]
    },
    {
      "cell_type": "code",
      "execution_count": 80,
      "metadata": {
        "id": "eI_fayiD4aFy"
      },
      "outputs": [],
      "source": [
        "import numpy as np\n",
        "import matplotlib.mlab as mlab\n",
        "import matplotlib.pyplot as plt"
      ]
    },
    {
      "cell_type": "code",
      "source": [
        "plt.hist(labels, 10)\n",
        "\n",
        "plt.xlabel('aqueous solubility')\n",
        "plt.ylabel('number of molecule')\n",
        "plt.title(r'Histogram of the aqueous solubility of the molecules in the list')\n",
        "\n",
        "plt.show()"
      ],
      "metadata": {
        "colab": {
          "base_uri": "https://localhost:8080/",
          "height": 295
        },
        "id": "AIPa0_nP_Yku",
        "outputId": "e35b8c61-23fc-4cc1-e832-93ecd6cfd40c"
      },
      "execution_count": 81,
      "outputs": [
        {
          "output_type": "display_data",
          "data": {
            "text/plain": [
              "<Figure size 432x288 with 1 Axes>"
            ],
            "image/png": "[encoded data removed]"
          },
          "metadata": {
            "needs_background": "light"
          }
        }
      ]
    },
    {
      "cell_type": "code",
      "source": [
        "plt.hist(labels, 20)\n",
        "\n",
        "plt.xlabel('aqueous solubility')\n",
        "plt.ylabel('number of molecule')\n",
        "plt.title(r'Histogram of the aqueous solubility of the molecules in the list')\n",
        "\n",
        "plt.show()"
      ],
      "metadata": {
        "colab": {
          "base_uri": "https://localhost:8080/",
          "height": 295
        },
        "id": "Sl-jTp8l_Yqv",
        "outputId": "d072f447-9a2f-4408-9082-203c565db2c3"
      },
      "execution_count": 82,
      "outputs": [
        {
          "output_type": "display_data",
          "data": {
            "text/plain": [
              "<Figure size 432x288 with 1 Axes>"
            ],
            "image/png": "[encoded data removed]"
          },
          "metadata": {
            "needs_background": "light"
          }
        }
      ]
    },
    {
      "cell_type": "code",
      "source": [
        "plt.hist(labels, 50)\n",
        "\n",
        "plt.xlabel('aqueous solubility')\n",
        "plt.ylabel('number of molecule')\n",
        "plt.title(r'Histogram of the aqueous solubility of the molecules in the list')\n",
        "\n",
        "plt.show()"
      ],
      "metadata": {
        "colab": {
          "base_uri": "https://localhost:8080/",
          "height": 295
        },
        "id": "ovEDNGQk_ZNa",
        "outputId": "50b0fe60-94eb-4f5d-b566-be0139fc7edf"
      },
      "execution_count": 83,
      "outputs": [
        {
          "output_type": "display_data",
          "data": {
            "text/plain": [
              "<Figure size 432x288 with 1 Axes>"
            ],
            "image/png": "[encoded data removed]"
          },
          "metadata": {
            "needs_background": "light"
          }
        }
      ]
    },
    {
      "cell_type": "code",
      "source": [
        "plt.hist(labels, 100)\n",
        "\n",
        "plt.xlabel('aqueous solubility')\n",
        "plt.ylabel('number of molecule')\n",
        "plt.title(r'Histogram of the aqueous solubility of the molecules in the list')\n",
        "\n",
        "plt.show()"
      ],
      "metadata": {
        "colab": {
          "base_uri": "https://localhost:8080/",
          "height": 295
        },
        "id": "5O6WN97d_e9Y",
        "outputId": "0628c28d-e545-4d04-baf5-47de4a483d9e"
      },
      "execution_count": 84,
      "outputs": [
        {
          "output_type": "display_data",
          "data": {
            "text/plain": [
              "<Figure size 432x288 with 1 Axes>"
            ],
            "image/png": "[encoded data removed]"
          },
          "metadata": {
            "needs_background": "light"
          }
        }
      ]
    },
    {
      "cell_type": "markdown",
      "metadata": {
        "id": "KRtVHEjH5M9m"
      },
      "source": [
        "### Feature Engineering \n",
        "\n",
        "Now, we have the **df** dataframe that contains the descriptors for molecules and the **labels** list that contains the solvant property of molecules.\n",
        "\n",
        "Check the dataframe **df** to see whether it contains NaN values. How many row contained NaN values are there in the dataframe **df** ? Remove these rows from  **df** and **labels**.\n",
        "\n"
      ]
    },
    {
      "cell_type": "code",
      "execution_count": 85,
      "metadata": {
        "colab": {
          "base_uri": "https://localhost:8080/"
        },
        "id": "rmtmpwdN4aFz",
        "outputId": "e57b0d8c-e54b-4869-ecdc-4af4d1013567"
      },
      "outputs": [
        {
          "output_type": "execute_result",
          "data": {
            "text/plain": [
              "985    True\n",
              "dtype: bool"
            ]
          },
          "metadata": {},
          "execution_count": 85
        }
      ],
      "source": [
        "df.isna().any(1)[df.isna().any(1) == True]"
      ]
    },
    {
      "cell_type": "code",
      "source": [
        "df = df.dropna()\n",
        "labels = labels[:985] + labels[986:]"
      ],
      "metadata": {
        "id": "bKwub2McADL2"
      },
      "execution_count": 86,
      "outputs": []
    },
    {
      "cell_type": "code",
      "source": [
        "df.isna().any(1)[df.isna().any(1) == True]"
      ],
      "metadata": {
        "colab": {
          "base_uri": "https://localhost:8080/"
        },
        "id": "68mMi0OnADlC",
        "outputId": "3901429b-178b-447f-ded2-6663c3544c19"
      },
      "execution_count": 87,
      "outputs": [
        {
          "output_type": "execute_result",
          "data": {
            "text/plain": [
              "Series([], dtype: bool)"
            ]
          },
          "metadata": {},
          "execution_count": 87
        }
      ]
    },
    {
      "cell_type": "markdown",
      "metadata": {
        "id": "LpPmEU9u4aFz"
      },
      "source": [
        "\n",
        "Apply the MinMaxScaler to the dataframe **df** to normalize the data.\n",
        "\n"
      ]
    },
    {
      "cell_type": "code",
      "execution_count": 88,
      "metadata": {
        "id": "0MRzq_tq4aF0"
      },
      "outputs": [],
      "source": [
        "from sklearn.preprocessing import MinMaxScaler\n",
        "\n",
        "scaler = MinMaxScaler()\n",
        "\n",
        "df = scaler.fit_transform(df)"
      ]
    },
    {
      "cell_type": "markdown",
      "metadata": {
        "id": "uOuw7i9y4aF0"
      },
      "source": [
        "Instanciate a linear regression and train it to predict the solubility from the features"
      ]
    },
    {
      "cell_type": "code",
      "execution_count": 89,
      "metadata": {
        "id": "6a6WmE5F4aF0"
      },
      "outputs": [],
      "source": [
        "from sklearn.linear_model import LinearRegression\n",
        "\n",
        "reg = LinearRegression().fit(df, labels)"
      ]
    },
    {
      "cell_type": "markdown",
      "metadata": {
        "id": "knxMQCb44aF0"
      },
      "source": [
        "\n",
        "Calculate the square root error for the dataset"
      ]
    },
    {
      "cell_type": "code",
      "execution_count": 90,
      "metadata": {
        "colab": {
          "base_uri": "https://localhost:8080/"
        },
        "id": "gWvfR-8x5H84",
        "outputId": "42246969-895e-469d-a00d-71b282d91881"
      },
      "outputs": [
        {
          "output_type": "stream",
          "name": "stdout",
          "text": [
            "We have a mean square error of :  0.25141600248436796\n"
          ]
        }
      ],
      "source": [
        "from sklearn.metrics import mean_squared_error\n",
        "\n",
        "print(\"We have a mean square error of : \", mean_squared_error(labels, reg.predict(df)))"
      ]
    },
    {
      "cell_type": "markdown",
      "metadata": {
        "id": "FlC9MvYA4aF1"
      },
      "source": [
        "Plot the differences between prediction and labels"
      ]
    },
    {
      "cell_type": "markdown",
      "metadata": {
        "id": "kESW-Pem5zPX"
      },
      "source": [
        "### Evaluating on test set\n",
        "\n",
        "\n",
        "\n",
        "Download test set from \"https://github.com/rdkit/rdkit/blob/master/Docs/Book/data/solubility.test.sdf\"\n",
        "\n",
        "\n",
        "Note: If there exists problem of reading the file solubility.test.sdf as\n",
        "\"RDKit ERROR: [09:28:36] ERROR: moving to the beginning of the next molecule\n",
        "RDKit ERROR: [09:32:48] ERROR: Counts line too short: '' on line4\"\n",
        "so, go to the url, click \"raw\" and save this file by hand. The error will be gone away\n"
      ]
    },
    {
      "cell_type": "code",
      "execution_count": 91,
      "metadata": {
        "colab": {
          "base_uri": "https://localhost:8080/"
        },
        "id": "j8EfxJXb4aF2",
        "outputId": "3844b72d-6f40-4998-cbb2-740840fb31bc"
      },
      "outputs": [
        {
          "output_type": "stream",
          "name": "stdout",
          "text": [
            "--2022-04-02 16:16:36--  https://raw.githubusercontent.com/rdkit/rdkit/master/Docs/Book/data/solubility.test.sdf\n",
            "Resolving raw.githubusercontent.com (raw.githubusercontent.com)... 185.199.108.133, 185.199.109.133, 185.199.110.133, ...\n",
            "Connecting to raw.githubusercontent.com (raw.githubusercontent.com)|185.199.108.133|:443... connected.\n",
            "HTTP request sent, awaiting response... 200 OK\n",
            "Length: 245735 (240K) [text/plain]\n",
            "Saving to: ‘solubility.test.sdf’\n",
            "\n",
            "\rsolubility.test.sdf   0%[                    ]       0  --.-KB/s               \rsolubility.test.sdf 100%[===================>] 239.98K  --.-KB/s    in 0.03s   \n",
            "\n",
            "2022-04-02 16:16:37 (8.86 MB/s) - ‘solubility.test.sdf’ saved [245735/245735]\n",
            "\n"
          ]
        }
      ],
      "source": [
        "!wget https://raw.githubusercontent.com/rdkit/rdkit/master/Docs/Book/data/solubility.test.sdf"
      ]
    },
    {
      "cell_type": "markdown",
      "metadata": {
        "id": "t8rXIsQb4aF3"
      },
      "source": [
        "\n",
        "Read molecules from this file and store them in a list named **list_molecule_test**.\n"
      ]
    },
    {
      "cell_type": "code",
      "execution_count": 93,
      "metadata": {
        "id": "fyL-7-894aF4"
      },
      "outputs": [],
      "source": [
        "molecule_list_test = Chem.SDMolSupplier('solubility.test.sdf', removeHs=False)"
      ]
    },
    {
      "cell_type": "markdown",
      "metadata": {
        "id": "CsJg7gwX4aF4"
      },
      "source": [
        "\n",
        "Take a molecule from the **list_molecule_test** and then calculate its descriptions thank to the **calculate_descriptors(mol)** function that you've coded above.\n",
        "\n"
      ]
    },
    {
      "cell_type": "code",
      "execution_count": 97,
      "metadata": {
        "colab": {
          "base_uri": "https://localhost:8080/"
        },
        "id": "8du6APFI4aF4",
        "outputId": "2d9e10ec-3899-48aa-eb81-2b0374f30735"
      },
      "outputs": [
        {
          "output_type": "stream",
          "name": "stdout",
          "text": [
            "        0         1         2         3         4        5       6    \\\n",
            "0  2.277778  0.935185  2.277778  0.935185  0.483890   86.178  72.066   \n",
            "1  2.263889  0.875000  2.263889  0.875000  0.500182  100.205  84.077   \n",
            "2  3.550417  1.152778  3.550417  1.152778  0.435604   70.135  60.055   \n",
            "3  2.267361  1.319444  2.267361  1.319444  0.392513   82.146  72.066   \n",
            "4  3.479167  0.916667  3.479167  0.916667  0.432313   68.119  60.055   \n",
            "\n",
            "          7    8    9    ...  198  199  200  201  202  203  204  205  206  207  \n",
            "0   86.109550   38    0  ...    0    0    0    0    0    0    0    0    0    0  \n",
            "1  100.125201   44    0  ...    0    0    0    0    0    0    0    0    0    0  \n",
            "2   70.078250   30    0  ...    0    0    0    0    0    0    0    0    0    0  \n",
            "3   82.078250   34    0  ...    0    0    0    0    0    0    0    0    0    0  \n",
            "4   68.062600   28    0  ...    0    0    0    0    0    0    0    0    0    0  \n",
            "\n",
            "[5 rows x 208 columns]\n"
          ]
        }
      ],
      "source": [
        "all_mol_test_desc = []\n",
        "\n",
        "for mol in molecule_list_test:\n",
        "\n",
        "    all_mol_test_desc.append(calculate_descriptors(mol))\n",
        "\n",
        "df_test = pd.DataFrame(all_mol_test_desc)\n",
        "\n",
        "print(df_test.head())"
      ]
    },
    {
      "cell_type": "markdown",
      "metadata": {
        "id": "QU_ZmSc_4aF5"
      },
      "source": [
        "\n",
        "Apply **minmaxscaler** to these descriptors. Note that **minmaxscaler**  is one that you've created for the training (do not fit again, only transform !!)\n",
        "\n"
      ]
    },
    {
      "cell_type": "code",
      "execution_count": 98,
      "metadata": {
        "id": "qk85RGin4aF5"
      },
      "outputs": [],
      "source": [
        "scaler_test = MinMaxScaler()\n",
        "\n",
        "df_test = scaler_test.fit_transform(df_test)"
      ]
    },
    {
      "cell_type": "markdown",
      "metadata": {
        "id": "uZb-R5sJ4aF5"
      },
      "source": [
        "\n",
        "Use the model that you've trained to predict the aqueous solubility (logS) of the molecule. Compare to the real logS value of the molecule.\n",
        "\n"
      ]
    },
    {
      "cell_type": "code",
      "execution_count": 99,
      "metadata": {
        "colab": {
          "base_uri": "https://localhost:8080/"
        },
        "id": "LsFRnhTs4aF5",
        "outputId": "28f8b0df-d6a3-4ac0-a55e-e21815d2c6b3"
      },
      "outputs": [
        {
          "output_type": "execute_result",
          "data": {
            "text/plain": [
              "array([-2.84727641e+10, -2.39015469e+10, -3.39797277e+10, -3.49395871e+10,\n",
              "       -3.51527629e+10, -3.49207215e+10, -2.10485087e+10, -6.04135007e+10,\n",
              "       -5.55363105e+10, -6.17292459e+10, -5.52863622e+10, -5.80847593e+10,\n",
              "       -8.51588043e+10, -9.06054957e+10, -8.79742886e+10, -1.22328851e+11,\n",
              "       -1.18514773e+11, -1.52994023e+11, -1.52533455e+11, -1.29530402e+11,\n",
              "       -1.41264950e+11, -1.51907473e+11, -3.28151368e+10, -3.47957884e+10,\n",
              "       -2.63200356e+10, -2.95525606e+10, -2.98336123e+10, -3.20078553e+10,\n",
              "       -2.71910576e+10, -2.97919151e+10, -2.79746144e+10, -2.50988282e+10,\n",
              "       -2.75024830e+10, -2.81746695e+10, -3.66467524e+10, -1.55169997e+10,\n",
              "       -3.83286899e+10, -6.23431719e+10, -6.30949139e+10, -6.18850515e+10,\n",
              "       -6.19165024e+10, -6.63325550e+10, -5.42078901e+10, -8.58430239e+10,\n",
              "       -8.60479282e+10, -8.70217497e+10, -8.69280753e+10, -8.74727427e+10,\n",
              "       -8.78742051e+10, -8.83684816e+10, -8.81878325e+10, -8.93738977e+10,\n",
              "       -8.90774865e+10, -9.16174569e+10, -8.56158313e+10, -9.15635936e+10,\n",
              "       -2.07699581e+10, -1.67086941e+10, -1.18074878e+10, -1.45037664e+10,\n",
              "       -1.76174956e+10, -1.99066133e+10, -1.03343795e+10, -1.58997662e+10,\n",
              "       -1.63705583e+10, -1.76893082e+10, -1.61950793e+10, -5.20840099e+10,\n",
              "       -3.85243300e+10, -4.85815991e+10, -4.54142886e+10, -8.08696003e+10,\n",
              "       -3.02146017e+10, -2.63979229e+10, -7.29485658e+10, -2.78292503e+10,\n",
              "       -2.64631080e+10, -2.76146658e+10, -8.31942551e+10, -7.85356510e+09,\n",
              "       -1.58467995e+10, -4.35854431e+10, -5.22841410e+10, -7.84488358e+10,\n",
              "       -7.36302916e+10, -1.31580535e+10, -2.17761911e+10, -2.09608406e+10,\n",
              "       -1.99270274e+10, -1.90511275e+10, -1.76302364e+10, -1.65757334e+10,\n",
              "       -5.02692493e+10, -3.12844860e+10, -2.18249381e+10, -2.30281922e+10,\n",
              "       -2.09305479e+10, -4.92072381e+10, -7.14120955e+10, -5.89957747e+09,\n",
              "        4.17360777e+10,  4.05690666e+10,  1.95705816e+10,  4.57534537e+10,\n",
              "       -3.48770909e+10, -3.91685349e+10, -5.14474298e+10, -5.29741695e+10,\n",
              "       -4.74165589e+10, -1.77767173e+10, -1.84470347e+10, -1.71026617e+10,\n",
              "       -4.61639054e+10, -4.41861824e+10, -8.13667470e+10, -7.05151875e+10,\n",
              "       -1.05225571e+11, -5.89335021e+10, -5.55992825e+10, -7.35354756e+10,\n",
              "       -1.29939514e+11, -9.31453132e+10, -6.98846123e+09, -4.73043016e+10,\n",
              "       -5.81748334e+10, -3.23492695e+09, -2.65384687e+10, -3.26487548e+10,\n",
              "       -2.44856412e+08, -5.22476586e+09, -4.96277345e+10,  4.44558494e+09,\n",
              "       -2.87877116e+09, -6.14917895e+10, -2.53212616e+10, -8.76191908e+10,\n",
              "       -6.41790617e+10, -4.87664915e+10, -2.37844855e+10, -6.81609677e+10,\n",
              "       -1.49353922e+10, -9.73768171e+10,  5.92734695e+09, -1.40667697e+10,\n",
              "       -1.83848842e+10, -3.00656752e+10, -3.95638153e+10, -1.11937239e+10,\n",
              "       -6.38995896e+10, -6.24969488e+09, -2.15344014e+10, -3.53741096e+10,\n",
              "       -2.28900802e+10, -8.19756183e+10, -3.47106257e+10, -4.08467292e+10,\n",
              "       -5.23063895e+10, -4.95798249e+10, -1.03096199e+11, -4.65019459e+10,\n",
              "       -2.77957662e+10, -5.75824414e+10, -1.53324827e+10, -1.68434131e+10,\n",
              "       -7.70988237e+08, -3.01789374e+10, -2.68425685e+10, -4.03354778e+10,\n",
              "        5.81070983e+10, -1.48603022e+10, -4.72121808e+10, -3.62177899e+10,\n",
              "       -1.47761597e+10, -5.10703236e+10, -6.62241919e+10, -4.87110784e+10,\n",
              "       -2.37164376e+10, -8.84419818e+09, -3.62068627e+10, -9.59791129e+09,\n",
              "       -3.48875944e+10, -1.05718877e+11, -4.71607518e+10, -3.29354285e+10,\n",
              "       -4.84070105e+10, -3.97142762e+10, -3.33721707e+10, -7.05904064e+10,\n",
              "       -5.41988374e+10,  6.29112984e+09, -1.70017686e+10, -6.41506192e+10,\n",
              "       -5.48954961e+10,  4.84188524e+09, -1.34884471e+11, -4.40539224e+10,\n",
              "       -7.94420468e+08, -1.56538347e+10, -4.54979926e+10, -9.60250996e+10,\n",
              "       -1.02448795e+11, -5.52985970e+10, -1.03956832e+11, -3.76513118e+10,\n",
              "       -3.88909735e+10, -2.92733452e+10, -4.85555416e+10, -3.54683587e+10,\n",
              "       -1.92346150e+10, -2.45592351e+10, -8.89840697e+10, -3.77242194e+10,\n",
              "       -3.67903372e+10, -2.15111304e+10, -1.65189860e+10, -8.13322854e+10,\n",
              "       -6.47654324e+10, -3.31524837e+10, -5.01022829e+10, -4.55871107e+10,\n",
              "       -1.52697436e+10, -1.44117122e+10, -1.00338061e+11,  4.79977951e+09,\n",
              "        6.00428173e+09, -1.88622043e+10, -3.44090358e+10, -3.55764096e+10,\n",
              "       -2.61650655e+10, -8.74959516e+10, -3.41232624e+10, -7.13467368e+10,\n",
              "       -4.00467115e+09, -1.43842083e+10, -8.64576344e+10, -5.21045504e+10,\n",
              "       -7.63889843e+10, -3.65988600e+10, -8.05415564e+10, -6.69026110e+10,\n",
              "       -2.16191097e+10, -7.54238417e+10, -2.27977319e+10, -5.00160965e+08,\n",
              "       -1.15516194e+11, -4.74188282e+10, -6.16336824e+10, -5.89982465e+10,\n",
              "       -1.11940943e+11, -3.04916149e+09, -4.33910010e+10,  5.76213457e+09,\n",
              "        2.05538410e+10, -1.36656082e+11,  1.45080591e+11, -1.14445052e+10,\n",
              "        2.50780837e+09])"
            ]
          },
          "metadata": {},
          "execution_count": 99
        }
      ],
      "source": [
        "reg.predict(df_test)"
      ]
    },
    {
      "cell_type": "markdown",
      "metadata": {
        "id": "cLLZuV4D4aF6"
      },
      "source": [
        "Calculate the mean square root error of the model for this data. Compare it to the one of training set. Does it overfit ? "
      ]
    },
    {
      "cell_type": "code",
      "execution_count": 101,
      "metadata": {
        "id": "SMo-oKP-Rhv-",
        "colab": {
          "base_uri": "https://localhost:8080/"
        },
        "outputId": "8476d9c3-10ef-46bb-cbf2-c197c3df3739"
      },
      "outputs": [
        {
          "output_type": "stream",
          "name": "stdout",
          "text": [
            "We have the following label :  [-3.68, -4.26, -2.68, -2.59, -2.09, -2.15, -3.66, -2.77, -3.4, -3.04, -4.12, -5.21, -4.62, -4.17, -4.29, -6.35, -6.57, -8.6, -8.06, -2.68, -6.2, -7.92, -1.17, -2.31, -1.06, -1.74, -1.47, -2.09, -2.15, -2.37, -2.7, -2.89, -5.06, -4.43, -1.32, -6.32, -4.91, -2.55, -3.19, -3.54, -4.5, -5.65, -2.0, -5.2, -5.28, -6.02, -6.29, -7.16, -6.8, -7.91, -7.92, -7.68, -8.01, -9.15, -7.2, -4.4, -0.29, -0.4, -0.39, -1.14, -0.62, -1.55, -1.6, -1.22, -0.72, -1.6, -3.63, -1.2, 0.62, -0.68, -2.22, -2.28, -0.01, -3.17, -0.1, -0.6, -2.58, -0.99, -3.12, -0.2, -3.44, -2.14, -2.48, -2.65, -3.22, -5.33, 0.15, -0.66, -1.28, -1.92, -2.31, -3.8, -1.85, -4.4, -0.09, -0.24, -1.34, -1.85, -1.6, -0.42, -2.97, -4.37, -3.75, -3.43, -1.82, -2.35, -1.06, -2.34, -3.31, -6.29, -1.1, -2.75, -1.28, -1.92, -1.92, 0.4, -1.45, -0.84, -1.28, -0.17, -3.18, -2.16, -2.23, -2.12, -3.66, -2.57, -4.16, -2.36, 0.81, -2.21, -3.28, -4.86, -4.61, -2.41, -2.09, -2.32, -2.62, -2.54, -2.43, -3.7, -1.35, -0.97, -1.13, 1.07, -0.4, 1.0, -0.72, 0.85, -3.28, 1.13, 0.96, -1.03, -0.62, -3.54, -2.8, -1.96, -1.37, -5.64, -4.44, -3.0, -3.26, -0.6, 0.32, -1.66, -0.22, -4.57, -4.04, -6.62, -4.35, 0.74, -2.84, -2.69, -4.11, -3.8, -3.95, -2.75, -2.57, -4.08, -2.72, -1.78, -3.26, -7.11, -1.4, -1.5, -2.92, -4.02, -1.77, -3.46, -1.14, -0.74, 0.04, 1.02, -1.26, 0.39, -2.36, -1.56, -3.9, 0.49, -3.27, -1.11, -1.55, -2.15, -5.43, -2.51, -2.34, -2.88, -2.33, -1.12, -1.6, -4.27, -2.61, -2.22, -2.41, -2.17, -2.75, -2.87, -3.51, -1.91, -1.99, -2.08, -1.85, -2.49, -1.94, -5.47, -1.2, -3.05, -3.02, -5.03, -1.73, -2.57, -2.59, -4.21, -5.53, -4.16, -6.62, -2.28, -2.85, -4.11, -2.64, -3.08, -3.59, -5.69, -2.73, -2.7, -4.38, -2.6, -4.95, -4.43, -2.63, -5.41, -4.4, -3.8, -5.66, -3.66, -0.5, -5.09, -7.32]\n",
            "We have a mean square error of :  3.2810242659393607e+21\n"
          ]
        }
      ],
      "source": [
        "labels_test = []\n",
        "\n",
        "for mol in molecule_list_test:\n",
        "    labels_test.append(float(mol.GetProp('SOL')))\n",
        "\n",
        "print(\"We have the following label : \", labels_test)\n",
        "\n",
        "\n",
        "print(\"We have a mean square error of : \", mean_squared_error(labels_test, reg.predict(df_test)))"
      ]
    },
    {
      "cell_type": "markdown",
      "source": [
        "Considering the big difference between the train error and the test error, there is a strong chance that it is due to overfitting but it would be necessary to look at it in detail to be able to really confirm it, it remains for the moment only an intuition"
      ],
      "metadata": {
        "id": "1un3NIRdFaPL"
      }
    },
    {
      "cell_type": "markdown",
      "metadata": {
        "id": "dCoVy9Pa4aF6"
      },
      "source": [
        "### Other models (bonus)\n",
        "\n",
        "Try to do hyperparameter search to find better linear models (check regularisation) \n",
        "\n"
      ]
    },
    {
      "cell_type": "code",
      "execution_count": 95,
      "metadata": {
        "id": "bMWsqoLf4aF6"
      },
      "outputs": [],
      "source": [
        ""
      ]
    },
    {
      "cell_type": "markdown",
      "metadata": {
        "id": "TsueT5Jj4aF6"
      },
      "source": [
        "Try to test with support vector machine"
      ]
    },
    {
      "cell_type": "markdown",
      "metadata": {
        "id": "tF9mj52F4aF7"
      },
      "source": [
        ""
      ]
    },
    {
      "cell_type": "markdown",
      "metadata": {
        "id": "LJKpm6YQ4aF7"
      },
      "source": [
        "Try to test with gradient boosting regressor"
      ]
    },
    {
      "cell_type": "code",
      "execution_count": 95,
      "metadata": {
        "id": "OaCemOk24aF7"
      },
      "outputs": [],
      "source": [
        ""
      ]
    },
    {
      "cell_type": "markdown",
      "metadata": {
        "id": "XnurT5-S4aF7"
      },
      "source": [
        "Try to test with a small Feedforward network"
      ]
    },
    {
      "cell_type": "code",
      "execution_count": 95,
      "metadata": {
        "id": "VOwte1Cl4aF7"
      },
      "outputs": [],
      "source": [
        ""
      ]
    }
  ],
  "metadata": {
    "colab": {
      "collapsed_sections": [],
      "name": "predict_solubility_rdkit_and_basic_model_maxime_leherle.ipynb",
      "provenance": []
    },
    "kernelspec": {
      "display_name": "Python 3",
      "language": "python",
      "name": "python3"
    },
    "language_info": {
      "codemirror_mode": {
        "name": "ipython",
        "version": 3
      },
      "file_extension": ".py",
      "mimetype": "text/x-python",
      "name": "python",
      "nbconvert_exporter": "python",
      "pygments_lexer": "ipython3",
      "version": "3.9.2"
    }
  },
  "nbformat": 4,
  "nbformat_minor": 0
}