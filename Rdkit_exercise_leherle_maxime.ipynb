{
  "cells": [
    {
      "cell_type": "markdown",
      "metadata": {
        "id": "ojAIiozziidD"
      },
      "source": [
        "# Machine learning to predict molecule properties : solubility\n",
        "\n"
      ]
    },
    {
      "cell_type": "markdown",
      "metadata": {
        "id": "S6-s-2EciidH"
      },
      "source": [
        "The solubility of molecules is an important property in many applications like for drug selection or for compound selection for battery designes (no link to health).\n",
        "\n",
        "Being able to predict the solubility of a molecule from its formula instead of having to make measuring experiment in an important aspect to enhanced fatester molecule discovery.\n",
        "\n",
        "In this notebook we will do basic solubility prediction with machine learning models and rdkit\n"
      ]
    },
    {
      "cell_type": "markdown",
      "metadata": {
        "id": "LCVypQIuiidI"
      },
      "source": [
        "Install the python rdkit package with pip or conda\n",
        "\n",
        "cf https://www.rdkit.org/docs/index.html"
      ]
    },
    {
      "cell_type": "code",
      "execution_count": 4,
      "metadata": {
        "colab": {
          "base_uri": "https://localhost:8080/"
        },
        "id": "9qJCFDsxp3wJ",
        "outputId": "546275cd-3745-47ee-a7ef-cab1f79c2c84"
      },
      "outputs": [
        {
          "output_type": "stream",
          "name": "stdout",
          "text": [
            "Requirement already satisfied: numpy in /usr/local/lib/python3.7/dist-packages (1.21.5)\n"
          ]
        }
      ],
      "source": [
        "!pip install numpy"
      ]
    },
    {
      "cell_type": "code",
      "execution_count": 3,
      "metadata": {
        "colab": {
          "base_uri": "https://localhost:8080/"
        },
        "id": "TlxJTzuRiidK",
        "outputId": "c6539bdb-b3b2-4cd1-f377-4ba5fcfc02e4"
      },
      "outputs": [
        {
          "output_type": "stream",
          "name": "stdout",
          "text": [
            "Collecting rdkit-pypi\n",
            "  Downloading rdkit_pypi-2022.3.1-cp37-cp37m-manylinux_2_17_x86_64.manylinux2014_x86_64.whl (22.5 MB)\n",
            "\u001b[K     |████████████████████████████████| 22.5 MB 1.1 MB/s \n",
            "\u001b[?25hRequirement already satisfied: Pillow in /usr/local/lib/python3.7/dist-packages (from rdkit-pypi) (7.1.2)\n",
            "Requirement already satisfied: numpy>=1.19 in /usr/local/lib/python3.7/dist-packages (from rdkit-pypi) (1.21.5)\n",
            "Installing collected packages: rdkit-pypi\n",
            "Successfully installed rdkit-pypi-2022.3.1\n"
          ]
        }
      ],
      "source": [
        "!pip install rdkit-pypi"
      ]
    },
    {
      "cell_type": "markdown",
      "metadata": {
        "id": "v3sJhiUjiidL"
      },
      "source": [
        "# Molecule representations with Rdkit"
      ]
    },
    {
      "cell_type": "markdown",
      "metadata": {
        "id": "XkVDVm_3iidL"
      },
      "source": [
        "Rdkit is a package allowing to work with molecule data and their representation. \n",
        "\n",
        "For basic manipulations, the main submodule is **Chem**\n",
        "\n"
      ]
    },
    {
      "cell_type": "markdown",
      "metadata": {
        "id": "TYs-WClCqSsy"
      },
      "source": [
        "### Smile representation\n",
        "\n",
        "Smile lets represent molecules with text strings\n",
        "\n",
        "\n"
      ]
    },
    {
      "cell_type": "markdown",
      "metadata": {
        "id": "FGyeFce5iidM"
      },
      "source": [
        "The following string contains the SMILE representation of the paracetamol molecule"
      ]
    },
    {
      "cell_type": "code",
      "execution_count": 14,
      "metadata": {
        "id": "CXZJ7zqfiidN"
      },
      "outputs": [],
      "source": [
        "smile = 'CC(=O)NC1=CC=C(O)C=C1'"
      ]
    },
    {
      "cell_type": "markdown",
      "metadata": {
        "id": "7RrvepIGiidO"
      },
      "source": [
        "import rdkit and the Chem submodule"
      ]
    },
    {
      "cell_type": "code",
      "execution_count": 24,
      "metadata": {
        "id": "LpsdhBogiidP"
      },
      "outputs": [],
      "source": [
        "import rdkit\n",
        "from rdkit import Chem"
      ]
    },
    {
      "cell_type": "markdown",
      "metadata": {
        "id": "67r9bt0hiidP"
      },
      "source": [
        "Using the MolFromSmiles function, create a molecule from the smile representation and print its types"
      ]
    },
    {
      "cell_type": "code",
      "execution_count": 26,
      "metadata": {
        "id": "ccbbFmLOqDJV",
        "colab": {
          "base_uri": "https://localhost:8080/"
        },
        "outputId": "a3e0ee47-ffc3-466a-ff91-1dae5572018a"
      },
      "outputs": [
        {
          "output_type": "stream",
          "name": "stdout",
          "text": [
            "<class 'rdkit.Chem.rdchem.Mol'>\n",
            "<rdkit.Chem.rdchem.Mol object at 0x7eff379c9940>\n"
          ]
        },
        {
          "output_type": "execute_result",
          "data": {
            "text/plain": [
              "<rdkit.Chem.rdchem.Mol at 0x7eff379c9940>"
            ]
          },
          "metadata": {},
          "execution_count": 26
        }
      ],
      "source": [
        "mol = Chem.MolFromSmiles(smile)\n",
        "\n",
        "print(type(mol))\n",
        "print(mol)\n",
        "mol"
      ]
    },
    {
      "cell_type": "markdown",
      "metadata": {
        "id": "c2w4Rgc3iidQ"
      },
      "source": [
        "With the MolToImage function of the Draw package, display the molecule"
      ]
    },
    {
      "cell_type": "code",
      "execution_count": 27,
      "metadata": {
        "colab": {
          "base_uri": "https://localhost:8080/",
          "height": 317
        },
        "id": "8snxocdqsKNJ",
        "outputId": "4b383852-3eb7-4a53-df38-ac6e9b8a4f10"
      },
      "outputs": [
        {
          "output_type": "execute_result",
          "data": {
            "text/plain": [
              "<PIL.PngImagePlugin.PngImageFile image mode=RGB size=300x300 at 0x7EFF379EB450>"
            ],
            "image/png": "[encoded data removed]"
          },
          "metadata": {},
          "execution_count": 27
        }
      ],
      "source": [
        "Chem.Draw.MolToImage(mol)"
      ]
    },
    {
      "cell_type": "markdown",
      "metadata": {
        "id": "DdqAg-5biidR"
      },
      "source": [
        "You can get the Number of atoms of the molecules and the list of atoms with the methods GetNumAtoms and getAtoms.\n",
        "\n",
        "Print the number of atoms of the molecule"
      ]
    },
    {
      "cell_type": "code",
      "execution_count": 29,
      "metadata": {
        "colab": {
          "base_uri": "https://localhost:8080/"
        },
        "id": "3yiWFSgdsk0j",
        "outputId": "9a1dff80-379f-4a10-caeb-cf539fbd39a2"
      },
      "outputs": [
        {
          "output_type": "stream",
          "name": "stdout",
          "text": [
            "Number of atoms is :  11\n",
            "List of atom :  <rdkit.Chem.rdchem._ROAtomSeq object at 0x7eff378e9490>\n"
          ]
        }
      ],
      "source": [
        "print(\"Number of atoms is : \", mol.GetNumAtoms())\n",
        "\n",
        "print(\"List of atom : \", mol.GetAtoms())"
      ]
    },
    {
      "cell_type": "markdown",
      "metadata": {
        "id": "th4XprtYiidS"
      },
      "source": [
        "If you compare to the picture, you may see that the number of atoms is not 11. What is the total number and why rdkit do not give the same answer ?"
      ]
    },
    {
      "cell_type": "markdown",
      "metadata": {
        "id": "-33r3OCYiidS"
      },
      "source": [
        "Our real molecule has 18 atoms, but we have only 11 atoms in the representation, this is because our molecule is represented without the hydrogen atoms, as we know that they will be placed there in addition to the number of bonds needed for each atom we do not need to make them visible."
      ]
    },
    {
      "cell_type": "markdown",
      "metadata": {
        "id": "v1ArpyHtiidS"
      },
      "source": [
        "Print the list of each atoms"
      ]
    },
    {
      "cell_type": "code",
      "execution_count": 30,
      "metadata": {
        "colab": {
          "base_uri": "https://localhost:8080/"
        },
        "id": "4rN88u9dtueQ",
        "outputId": "fc5bf22d-3764-4983-84ba-f97080c33439"
      },
      "outputs": [
        {
          "output_type": "stream",
          "name": "stdout",
          "text": [
            "The list of atom is the following :  ['C', 'C', 'O', 'N', 'C', 'C', 'C', 'C', 'O', 'C', 'C']\n"
          ]
        }
      ],
      "source": [
        "list_atom = []\n",
        "for atom in mol.GetAtoms():\n",
        "    list_atom.append(atom.GetSymbol())\n",
        "\n",
        "print(\"The list of atom is the following : \", list_atom)"
      ]
    },
    {
      "cell_type": "markdown",
      "metadata": {
        "id": "mdXEDzV9iidT"
      },
      "source": [
        "Store the number of bonds of the molecule in **n_bond** (look which method can be used for that) and print"
      ]
    },
    {
      "cell_type": "code",
      "execution_count": 36,
      "metadata": {
        "colab": {
          "base_uri": "https://localhost:8080/"
        },
        "id": "4BJGnXswtxFV",
        "outputId": "8e588253-62b9-4c6e-88b4-cb9fdf6c828f"
      },
      "outputs": [
        {
          "output_type": "stream",
          "name": "stdout",
          "text": [
            "So we have n_bound :  11\n"
          ]
        }
      ],
      "source": [
        "n_bond = mol.GetNumBonds()\n",
        "print(\"So we have n_bound : \", n_bond)"
      ]
    },
    {
      "cell_type": "markdown",
      "metadata": {
        "id": "qIcjbLrJiidT"
      },
      "source": [
        "For each bond, print if the bond is single or double"
      ]
    },
    {
      "cell_type": "code",
      "execution_count": 32,
      "metadata": {
        "colab": {
          "base_uri": "https://localhost:8080/"
        },
        "id": "0KSgozz1iidU",
        "outputId": "4cc0beaf-bb89-4138-a27f-8680b8d53f47"
      },
      "outputs": [
        {
          "output_type": "stream",
          "name": "stdout",
          "text": [
            "SINGLE\n",
            "DOUBLE\n",
            "SINGLE\n",
            "SINGLE\n",
            "AROMATIC\n",
            "AROMATIC\n",
            "AROMATIC\n",
            "SINGLE\n",
            "AROMATIC\n",
            "AROMATIC\n",
            "AROMATIC\n"
          ]
        }
      ],
      "source": [
        "for bond in mol.GetBonds():\n",
        "    print(str(bond.GetBondType()))"
      ]
    },
    {
      "cell_type": "markdown",
      "metadata": {
        "id": "5ch4vabFuReu"
      },
      "source": [
        "### Reading molecule data from file\n",
        "\n",
        "Apart SMILES, .SDF/ .Mol are also the common formats to save molecules. RDKit provides also functionalities to read these files.\n",
        "\n",
        "\n",
        "Morphine is an opioid agonist used for the relief of moderate to severe acute and chronic pain. The chemical information of this drug can be found at \n",
        "\"https://go.drugbank.com/structures/small_molecule_drugs/DB00295.sdf\". \n",
        "\n",
        "\n",
        "Download this file and save it in a folder. \n",
        "\n"
      ]
    },
    {
      "cell_type": "markdown",
      "metadata": {
        "id": "uQW4Y0FTiidV"
      },
      "source": [
        "\n",
        "Read the morphine molecule from the file that you've downloaded using \"rdkit.Chem.SDMolSupplier\" and store the result in a variable named **morphine**\n",
        "\n"
      ]
    },
    {
      "cell_type": "code",
      "source": [
        "!wget https://go.drugbank.com/structures/small_molecule_drugs/DB00295.sdf"
      ],
      "metadata": {
        "colab": {
          "base_uri": "https://localhost:8080/"
        },
        "id": "kPxbu2cIv829",
        "outputId": "e04ab643-e8b8-4259-f10e-dd78543e99d9"
      },
      "execution_count": 33,
      "outputs": [
        {
          "output_type": "stream",
          "name": "stdout",
          "text": [
            "--2022-04-02 14:48:44--  https://go.drugbank.com/structures/small_molecule_drugs/DB00295.sdf\n",
            "Resolving go.drugbank.com (go.drugbank.com)... 172.66.41.6, 172.66.42.250, 2606:4700:3108::ac42:2afa, ...\n",
            "Connecting to go.drugbank.com (go.drugbank.com)|172.66.41.6|:443... connected.\n",
            "HTTP request sent, awaiting response... 200 OK\n",
            "Length: unspecified [text/plain]\n",
            "Saving to: ‘DB00295.sdf’\n",
            "\n",
            "DB00295.sdf             [ <=>                ]   7.48K  --.-KB/s    in 0s      \n",
            "\n",
            "2022-04-02 14:48:45 (68.9 MB/s) - ‘DB00295.sdf’ saved [7662]\n",
            "\n"
          ]
        }
      ]
    },
    {
      "cell_type": "code",
      "source": [
        "!ls"
      ],
      "metadata": {
        "colab": {
          "base_uri": "https://localhost:8080/"
        },
        "id": "ycOIscFOwAsC",
        "outputId": "0e1ee512-5f53-46b8-88bb-74ca028588d3"
      },
      "execution_count": 34,
      "outputs": [
        {
          "output_type": "stream",
          "name": "stdout",
          "text": [
            "DB00295.sdf  sample_data\n"
          ]
        }
      ]
    },
    {
      "cell_type": "code",
      "execution_count": 35,
      "metadata": {
        "colab": {
          "base_uri": "https://localhost:8080/"
        },
        "id": "nQZuMp9siidV",
        "outputId": "d7331457-5a04-4b14-d851-2fa4b8aa9091"
      },
      "outputs": [
        {
          "output_type": "execute_result",
          "data": {
            "text/plain": [
              "<rdkit.Chem.rdmolfiles.SDMolSupplier at 0x7eff378fc670>"
            ]
          },
          "metadata": {},
          "execution_count": 35
        }
      ],
      "source": [
        "suppl = Chem.SDMolSupplier('DB00295.sdf')\n",
        "morphine = suppl\n",
        "print(morphine)"
      ]
    },
    {
      "cell_type": "markdown",
      "metadata": {
        "id": "gSl_Kp3yiidV"
      },
      "source": [
        "Display its type"
      ]
    },
    {
      "cell_type": "code",
      "execution_count": 37,
      "metadata": {
        "colab": {
          "base_uri": "https://localhost:8080/"
        },
        "id": "cuW0oTPAiidW",
        "outputId": "a29d920e-e798-4f1f-d8f0-6761b4fa0b5c"
      },
      "outputs": [
        {
          "output_type": "stream",
          "name": "stdout",
          "text": [
            "<class 'rdkit.Chem.rdmolfiles.SDMolSupplier'>\n"
          ]
        }
      ],
      "source": [
        "print(type(morphine))"
      ]
    },
    {
      "cell_type": "markdown",
      "metadata": {
        "id": "3j8goB4diidW"
      },
      "source": [
        "Display the picture of the molecule\n"
      ]
    },
    {
      "cell_type": "code",
      "execution_count": 38,
      "metadata": {
        "colab": {
          "base_uri": "https://localhost:8080/",
          "height": 217
        },
        "id": "7yG5fqAGiidW",
        "outputId": "cf74f127-2264-441a-c547-c4fe5674fb48"
      },
      "outputs": [
        {
          "output_type": "execute_result",
          "data": {
            "text/plain": [
              "<PIL.Image.Image image mode=RGBA size=200x200 at 0x7EFF39192A10>"
            ],
            "image/png": "[encoded data removed]"
          },
          "metadata": {},
          "execution_count": 38
        }
      ],
      "source": [
        "Chem.Draw.MolsToImage(morphine)"
      ]
    },
    {
      "cell_type": "markdown",
      "metadata": {
        "id": "4Y-g7MwciidW"
      },
      "source": [
        "Display the number of atoms and the number of bonds"
      ]
    },
    {
      "cell_type": "code",
      "execution_count": 41,
      "metadata": {
        "colab": {
          "base_uri": "https://localhost:8080/"
        },
        "id": "AuSOvWQMiidW",
        "outputId": "b4748a59-13e3-4c4d-e370-1b63cbdc8328"
      },
      "outputs": [
        {
          "output_type": "stream",
          "name": "stdout",
          "text": [
            "Number of atom :  21\n",
            "Number of bounds   25\n"
          ]
        }
      ],
      "source": [
        "print(\"Number of atom : \", morphine[0].GetNumAtoms())\n",
        "print(\"Number of bounds  \", len(morphine[0].GetBonds()))"
      ]
    },
    {
      "cell_type": "markdown",
      "metadata": {
        "id": "GZXsjZGw3ofC"
      },
      "source": [
        "### Descriptors \n",
        "\n",
        "\n",
        "Molecules are also described by a set of physiochemical descriptors like \n",
        "- the log partition coefficient,\n",
        "- the polar surface area ... that describe the molecule's structure.\n",
        "\n",
        "\n",
        "RDKit provides utilities that allow us to compute descriptor of molecules.\n",
        "\n",
        "The rdkit.ML.Descriptors module and its sub module let us compute molecule descriptors."
      ]
    },
    {
      "cell_type": "markdown",
      "metadata": {
        "id": "30B6Dy5hiidX"
      },
      "source": [
        "the rdkit.ML.Descriptors module has an attribute name \\_descList, display it"
      ]
    },
    {
      "cell_type": "code",
      "execution_count": 44,
      "metadata": {
        "colab": {
          "base_uri": "https://localhost:8080/"
        },
        "id": "6XYC_rgCiidX",
        "outputId": "d109ecf6-c70a-4f4e-aa7e-2b3dd89e15f0"
      },
      "outputs": [
        {
          "output_type": "stream",
          "name": "stdout",
          "text": [
            "[('MaxEStateIndex', <function MaxEStateIndex at 0x7eff37894830>), ('MinEStateIndex', <function MinEStateIndex at 0x7eff37894e60>), ('MaxAbsEStateIndex', <function MaxAbsEStateIndex at 0x7eff378aa290>), ('MinAbsEStateIndex', <function MinAbsEStateIndex at 0x7eff378aa4d0>), ('qed', <function qed at 0x7eff378cb5f0>), ('MolWt', <function <lambda> at 0x7eff3789d0e0>), ('HeavyAtomMolWt', <function HeavyAtomMolWt at 0x7eff3789d170>), ('ExactMolWt', <function <lambda> at 0x7eff378cb8c0>), ('NumValenceElectrons', <function NumValenceElectrons at 0x7eff378cb950>), ('NumRadicalElectrons', <function NumRadicalElectrons at 0x7eff378cb9e0>), ('MaxPartialCharge', <function MaxPartialCharge at 0x7eff378cbb00>), ('MinPartialCharge', <function MinPartialCharge at 0x7eff378cbb90>), ('MaxAbsPartialCharge', <function MaxAbsPartialCharge at 0x7eff378cbc20>), ('MinAbsPartialCharge', <function MinAbsPartialCharge at 0x7eff378cbcb0>), ('FpDensityMorgan1', <function FpDensityMorgan1 at 0x7eff378cbdd0>), ('FpDensityMorgan2', <function FpDensityMorgan2 at 0x7eff378cbe60>), ('FpDensityMorgan3', <function FpDensityMorgan3 at 0x7eff378cbef0>), ('BCUT2D_MWHI', <function BCUT2D_MWHI at 0x7eff378cbf80>), ('BCUT2D_MWLOW', <function BCUT2D_MWLOW at 0x7eff372e4050>), ('BCUT2D_CHGHI', <function BCUT2D_CHGHI at 0x7eff372e40e0>), ('BCUT2D_CHGLO', <function BCUT2D_CHGLO at 0x7eff372e4170>), ('BCUT2D_LOGPHI', <function BCUT2D_LOGPHI at 0x7eff372e4200>), ('BCUT2D_LOGPLOW', <function BCUT2D_LOGPLOW at 0x7eff372e4290>), ('BCUT2D_MRHI', <function BCUT2D_MRHI at 0x7eff372e4320>), ('BCUT2D_MRLOW', <function BCUT2D_MRLOW at 0x7eff372e43b0>), ('BalabanJ', <function BalabanJ at 0x7eff372f39e0>), ('BertzCT', <function BertzCT at 0x7eff372f3cb0>), ('Chi0', <function Chi0 at 0x7eff372f19e0>), ('Chi0n', <function <lambda> at 0x7eff372f3680>), ('Chi0v', <function <lambda> at 0x7eff372f3320>), ('Chi1', <function Chi1 at 0x7eff372f1a70>), ('Chi1n', <function <lambda> at 0x7eff372f3710>), ('Chi1v', <function <lambda> at 0x7eff372f33b0>), ('Chi2n', <function <lambda> at 0x7eff372f37a0>), ('Chi2v', <function <lambda> at 0x7eff372f3440>), ('Chi3n', <function <lambda> at 0x7eff372f3830>), ('Chi3v', <function <lambda> at 0x7eff372f34d0>), ('Chi4n', <function <lambda> at 0x7eff372f38c0>), ('Chi4v', <function <lambda> at 0x7eff372f3560>), ('HallKierAlpha', <function <lambda> at 0x7eff372f17a0>), ('Ipc', <function Ipc at 0x7eff372f1560>), ('Kappa1', <function <lambda> at 0x7eff372f1830>), ('Kappa2', <function <lambda> at 0x7eff372f18c0>), ('Kappa3', <function <lambda> at 0x7eff372f1950>), ('LabuteASA', <function <lambda> at 0x7eff378c5a70>), ('PEOE_VSA1', <function _InstallDescriptors.<locals>.<lambda> at 0x7eff378c5200>), ('PEOE_VSA10', <function _InstallDescriptors.<locals>.<lambda> at 0x7eff378c5710>), ('PEOE_VSA11', <function _InstallDescriptors.<locals>.<lambda> at 0x7eff378c57a0>), ('PEOE_VSA12', <function _InstallDescriptors.<locals>.<lambda> at 0x7eff378c5830>), ('PEOE_VSA13', <function _InstallDescriptors.<locals>.<lambda> at 0x7eff378c58c0>), ('PEOE_VSA14', <function _InstallDescriptors.<locals>.<lambda> at 0x7eff378c5950>), ('PEOE_VSA2', <function _InstallDescriptors.<locals>.<lambda> at 0x7eff378c5290>), ('PEOE_VSA3', <function _InstallDescriptors.<locals>.<lambda> at 0x7eff378c5320>), ('PEOE_VSA4', <function _InstallDescriptors.<locals>.<lambda> at 0x7eff378c53b0>), ('PEOE_VSA5', <function _InstallDescriptors.<locals>.<lambda> at 0x7eff378c5440>), ('PEOE_VSA6', <function _InstallDescriptors.<locals>.<lambda> at 0x7eff378c54d0>), ('PEOE_VSA7', <function _InstallDescriptors.<locals>.<lambda> at 0x7eff378c5560>), ('PEOE_VSA8', <function _InstallDescriptors.<locals>.<lambda> at 0x7eff378c55f0>), ('PEOE_VSA9', <function _InstallDescriptors.<locals>.<lambda> at 0x7eff378c5680>), ('SMR_VSA1', <function _InstallDescriptors.<locals>.<lambda> at 0x7eff378c4560>), ('SMR_VSA10', <function _InstallDescriptors.<locals>.<lambda> at 0x7eff378c4a70>), ('SMR_VSA2', <function _InstallDescriptors.<locals>.<lambda> at 0x7eff378c45f0>), ('SMR_VSA3', <function _InstallDescriptors.<locals>.<lambda> at 0x7eff378c4680>), ('SMR_VSA4', <function _InstallDescriptors.<locals>.<lambda> at 0x7eff378c4710>), ('SMR_VSA5', <function _InstallDescriptors.<locals>.<lambda> at 0x7eff378c47a0>), ('SMR_VSA6', <function _InstallDescriptors.<locals>.<lambda> at 0x7eff378c4830>), ('SMR_VSA7', <function _InstallDescriptors.<locals>.<lambda> at 0x7eff378c48c0>), ('SMR_VSA8', <function _InstallDescriptors.<locals>.<lambda> at 0x7eff378c4950>), ('SMR_VSA9', <function _InstallDescriptors.<locals>.<lambda> at 0x7eff378c49e0>), ('SlogP_VSA1', <function _InstallDescriptors.<locals>.<lambda> at 0x7eff378c4b00>), ('SlogP_VSA10', <function _InstallDescriptors.<locals>.<lambda> at 0x7eff378c5050>), ('SlogP_VSA11', <function _InstallDescriptors.<locals>.<lambda> at 0x7eff378c50e0>), ('SlogP_VSA12', <function _InstallDescriptors.<locals>.<lambda> at 0x7eff378c5170>), ('SlogP_VSA2', <function _InstallDescriptors.<locals>.<lambda> at 0x7eff378c4b90>), ('SlogP_VSA3', <function _InstallDescriptors.<locals>.<lambda> at 0x7eff378c4c20>), ('SlogP_VSA4', <function _InstallDescriptors.<locals>.<lambda> at 0x7eff378c4cb0>), ('SlogP_VSA5', <function _InstallDescriptors.<locals>.<lambda> at 0x7eff378c4d40>), ('SlogP_VSA6', <function _InstallDescriptors.<locals>.<lambda> at 0x7eff378c4dd0>), ('SlogP_VSA7', <function _InstallDescriptors.<locals>.<lambda> at 0x7eff378c4e60>), ('SlogP_VSA8', <function _InstallDescriptors.<locals>.<lambda> at 0x7eff378c4ef0>), ('SlogP_VSA9', <function _InstallDescriptors.<locals>.<lambda> at 0x7eff378c4f80>), ('TPSA', <function <lambda> at 0x7eff378c5c20>), ('EState_VSA1', <function EState_VSA1 at 0x7eff3730e290>), ('EState_VSA10', <function EState_VSA10 at 0x7eff3730e7a0>), ('EState_VSA11', <function EState_VSA11 at 0x7eff3730e830>), ('EState_VSA2', <function EState_VSA2 at 0x7eff3730e320>), ('EState_VSA3', <function EState_VSA3 at 0x7eff3730e3b0>), ('EState_VSA4', <function EState_VSA4 at 0x7eff3730e440>), ('EState_VSA5', <function EState_VSA5 at 0x7eff3730e4d0>), ('EState_VSA6', <function EState_VSA6 at 0x7eff3730e560>), ('EState_VSA7', <function EState_VSA7 at 0x7eff3730e5f0>), ('EState_VSA8', <function EState_VSA8 at 0x7eff3730e680>), ('EState_VSA9', <function EState_VSA9 at 0x7eff3730e710>), ('VSA_EState1', <function _descriptor_VSA_EState.<locals>.VSA_EState_bin at 0x7eff3730ccb0>), ('VSA_EState10', <function _descriptor_VSA_EState.<locals>.VSA_EState_bin at 0x7eff3730e200>), ('VSA_EState2', <function _descriptor_VSA_EState.<locals>.VSA_EState_bin at 0x7eff3730cd40>), ('VSA_EState3', <function _descriptor_VSA_EState.<locals>.VSA_EState_bin at 0x7eff3730cdd0>), ('VSA_EState4', <function _descriptor_VSA_EState.<locals>.VSA_EState_bin at 0x7eff3730ce60>), ('VSA_EState5', <function _descriptor_VSA_EState.<locals>.VSA_EState_bin at 0x7eff3730cef0>), ('VSA_EState6', <function _descriptor_VSA_EState.<locals>.VSA_EState_bin at 0x7eff3730cf80>), ('VSA_EState7', <function _descriptor_VSA_EState.<locals>.VSA_EState_bin at 0x7eff3730e050>), ('VSA_EState8', <function _descriptor_VSA_EState.<locals>.VSA_EState_bin at 0x7eff3730e0e0>), ('VSA_EState9', <function _descriptor_VSA_EState.<locals>.VSA_EState_bin at 0x7eff3730e170>), ('FractionCSP3', <function <lambda> at 0x7eff372f6c20>), ('HeavyAtomCount', <function HeavyAtomCount at 0x7eff372f6b90>), ('NHOHCount', <function <lambda> at 0x7eff372f6a70>), ('NOCount', <function <lambda> at 0x7eff372f69e0>), ('NumAliphaticCarbocycles', <function <lambda> at 0x7eff372fa170>), ('NumAliphaticHeterocycles', <function <lambda> at 0x7eff372fa0e0>), ('NumAliphaticRings', <function <lambda> at 0x7eff372fa050>), ('NumAromaticCarbocycles', <function <lambda> at 0x7eff372f6e60>), ('NumAromaticHeterocycles', <function <lambda> at 0x7eff372f6dd0>), ('NumAromaticRings', <function <lambda> at 0x7eff372f6cb0>), ('NumHAcceptors', <function <lambda> at 0x7eff372f6680>), ('NumHDonors', <function <lambda> at 0x7eff372f3dd0>), ('NumHeteroatoms', <function <lambda> at 0x7eff372f67a0>), ('NumRotatableBonds', <function <lambda> at 0x7eff372f68c0>), ('NumSaturatedCarbocycles', <function <lambda> at 0x7eff372f6f80>), ('NumSaturatedHeterocycles', <function <lambda> at 0x7eff372f6ef0>), ('NumSaturatedRings', <function <lambda> at 0x7eff372f6d40>), ('RingCount', <function <lambda> at 0x7eff372f6b00>), ('MolLogP', <function <lambda> at 0x7eff378c4200>), ('MolMR', <function <lambda> at 0x7eff378c4290>), ('fr_Al_COO', <function _LoadPatterns.<locals>.<lambda> at 0x7eff372faf80>), ('fr_Al_OH', <function _LoadPatterns.<locals>.<lambda> at 0x7eff372facb0>), ('fr_Al_OH_noTert', <function _LoadPatterns.<locals>.<lambda> at 0x7eff37306710>), ('fr_ArN', <function _LoadPatterns.<locals>.<lambda> at 0x7eff37306c20>), ('fr_Ar_COO', <function _LoadPatterns.<locals>.<lambda> at 0x7eff372ff050>), ('fr_Ar_N', <function _LoadPatterns.<locals>.<lambda> at 0x7eff372ff680>), ('fr_Ar_NH', <function _LoadPatterns.<locals>.<lambda> at 0x7eff372ff710>), ('fr_Ar_OH', <function _LoadPatterns.<locals>.<lambda> at 0x7eff372fad40>), ('fr_COO', <function _LoadPatterns.<locals>.<lambda> at 0x7eff372ff0e0>), ('fr_COO2', <function _LoadPatterns.<locals>.<lambda> at 0x7eff372ff170>), ('fr_C_O', <function _LoadPatterns.<locals>.<lambda> at 0x7eff372fab90>), ('fr_C_O_noCOO', <function _LoadPatterns.<locals>.<lambda> at 0x7eff372fac20>), ('fr_C_S', <function _LoadPatterns.<locals>.<lambda> at 0x7eff37302560>), ('fr_HOCCN', <function _LoadPatterns.<locals>.<lambda> at 0x7eff37306cb0>), ('fr_Imine', <function _LoadPatterns.<locals>.<lambda> at 0x7eff372ff830>), ('fr_NH0', <function _LoadPatterns.<locals>.<lambda> at 0x7eff372ff5f0>), ('fr_NH1', <function _LoadPatterns.<locals>.<lambda> at 0x7eff372ff560>), ('fr_NH2', <function _LoadPatterns.<locals>.<lambda> at 0x7eff372ff4d0>), ('fr_N_O', <function _LoadPatterns.<locals>.<lambda> at 0x7eff372ffb00>), ('fr_Ndealkylation1', <function _LoadPatterns.<locals>.<lambda> at 0x7eff373069e0>), ('fr_Ndealkylation2', <function _LoadPatterns.<locals>.<lambda> at 0x7eff37306a70>), ('fr_Nhpyrrole', <function _LoadPatterns.<locals>.<lambda> at 0x7eff37302050>), ('fr_SH', <function _LoadPatterns.<locals>.<lambda> at 0x7eff373024d0>), ('fr_aldehyde', <function _LoadPatterns.<locals>.<lambda> at 0x7eff372ff3b0>), ('fr_alkyl_carbamate', <function _LoadPatterns.<locals>.<lambda> at 0x7eff37306b00>), ('fr_alkyl_halide', <function _LoadPatterns.<locals>.<lambda> at 0x7eff373023b0>), ('fr_allylic_oxid', <function _LoadPatterns.<locals>.<lambda> at 0x7eff37306950>), ('fr_amide', <function _LoadPatterns.<locals>.<lambda> at 0x7eff372ffdd0>), ('fr_amidine', <function _LoadPatterns.<locals>.<lambda> at 0x7eff372ffef0>), ('fr_aniline', <function _LoadPatterns.<locals>.<lambda> at 0x7eff372ff7a0>), ('fr_aryl_methyl', <function _LoadPatterns.<locals>.<lambda> at 0x7eff373068c0>), ('fr_azide', <function _LoadPatterns.<locals>.<lambda> at 0x7eff372ffd40>), ('fr_azo', <function _LoadPatterns.<locals>.<lambda> at 0x7eff372ffc20>), ('fr_barbitur', <function _LoadPatterns.<locals>.<lambda> at 0x7eff37302830>), ('fr_benzene', <function _LoadPatterns.<locals>.<lambda> at 0x7eff37306320>), ('fr_benzodiazepine', <function _LoadPatterns.<locals>.<lambda> at 0x7eff373067a0>), ('fr_bicyclic', <function _LoadPatterns.<locals>.<lambda> at 0x7eff37306170>), ('fr_diazo', <function _LoadPatterns.<locals>.<lambda> at 0x7eff372ffcb0>), ('fr_dihydropyridine', <function _LoadPatterns.<locals>.<lambda> at 0x7eff37306680>), ('fr_epoxide', <function _LoadPatterns.<locals>.<lambda> at 0x7eff373060e0>), ('fr_ester', <function _LoadPatterns.<locals>.<lambda> at 0x7eff372faef0>), ('fr_ether', <function _LoadPatterns.<locals>.<lambda> at 0x7eff372ff290>), ('fr_furan', <function _LoadPatterns.<locals>.<lambda> at 0x7eff37302a70>), ('fr_guanido', <function _LoadPatterns.<locals>.<lambda> at 0x7eff372fff80>), ('fr_halogen', <function _LoadPatterns.<locals>.<lambda> at 0x7eff37302320>), ('fr_hdrzine', <function _LoadPatterns.<locals>.<lambda> at 0x7eff372ff9e0>), ('fr_hdrzone', <function _LoadPatterns.<locals>.<lambda> at 0x7eff372ff950>), ('fr_imidazole', <function _LoadPatterns.<locals>.<lambda> at 0x7eff373029e0>), ('fr_imide', <function _LoadPatterns.<locals>.<lambda> at 0x7eff373020e0>), ('fr_isocyan', <function _LoadPatterns.<locals>.<lambda> at 0x7eff37302170>), ('fr_isothiocyan', <function _LoadPatterns.<locals>.<lambda> at 0x7eff37302200>), ('fr_ketone', <function _LoadPatterns.<locals>.<lambda> at 0x7eff372ff200>), ('fr_ketone_Topliss', <function _LoadPatterns.<locals>.<lambda> at 0x7eff37306b90>), ('fr_lactam', <function _LoadPatterns.<locals>.<lambda> at 0x7eff37302ef0>), ('fr_lactone', <function _LoadPatterns.<locals>.<lambda> at 0x7eff37302f80>), ('fr_methoxy', <function _LoadPatterns.<locals>.<lambda> at 0x7eff372fadd0>), ('fr_morpholine', <function _LoadPatterns.<locals>.<lambda> at 0x7eff37302e60>), ('fr_nitrile', <function _LoadPatterns.<locals>.<lambda> at 0x7eff372ff8c0>), ('fr_nitro', <function _LoadPatterns.<locals>.<lambda> at 0x7eff372ffb90>), ('fr_nitro_arom', <function _LoadPatterns.<locals>.<lambda> at 0x7eff373064d0>), ('fr_nitro_arom_nonortho', <function _LoadPatterns.<locals>.<lambda> at 0x7eff37306560>), ('fr_nitroso', <function _LoadPatterns.<locals>.<lambda> at 0x7eff372ffa70>), ('fr_oxazole', <function _LoadPatterns.<locals>.<lambda> at 0x7eff37302c20>), ('fr_oxime', <function _LoadPatterns.<locals>.<lambda> at 0x7eff372fae60>), ('fr_para_hydroxylation', <function _LoadPatterns.<locals>.<lambda> at 0x7eff37306830>), ('fr_phenol', <function _LoadPatterns.<locals>.<lambda> at 0x7eff372ff320>), ('fr_phenol_noOrthoHbond', <function _LoadPatterns.<locals>.<lambda> at 0x7eff373065f0>), ('fr_phos_acid', <function _LoadPatterns.<locals>.<lambda> at 0x7eff373063b0>), ('fr_phos_ester', <function _LoadPatterns.<locals>.<lambda> at 0x7eff37306440>), ('fr_piperdine', <function _LoadPatterns.<locals>.<lambda> at 0x7eff37302d40>), ('fr_piperzine', <function _LoadPatterns.<locals>.<lambda> at 0x7eff37302dd0>), ('fr_priamide', <function _LoadPatterns.<locals>.<lambda> at 0x7eff372ffe60>), ('fr_prisulfonamd', <function _LoadPatterns.<locals>.<lambda> at 0x7eff373027a0>), ('fr_pyridine', <function _LoadPatterns.<locals>.<lambda> at 0x7eff37302cb0>), ('fr_quatN', <function _LoadPatterns.<locals>.<lambda> at 0x7eff372ff440>), ('fr_sulfide', <function _LoadPatterns.<locals>.<lambda> at 0x7eff37302440>), ('fr_sulfonamd', <function _LoadPatterns.<locals>.<lambda> at 0x7eff37302710>), ('fr_sulfone', <function _LoadPatterns.<locals>.<lambda> at 0x7eff37302680>), ('fr_term_acetylene', <function _LoadPatterns.<locals>.<lambda> at 0x7eff37302950>), ('fr_tetrazole', <function _LoadPatterns.<locals>.<lambda> at 0x7eff37306050>), ('fr_thiazole', <function _LoadPatterns.<locals>.<lambda> at 0x7eff37302b90>), ('fr_thiocyan', <function _LoadPatterns.<locals>.<lambda> at 0x7eff37302290>), ('fr_thiophene', <function _LoadPatterns.<locals>.<lambda> at 0x7eff37302b00>), ('fr_unbrch_alkane', <function _LoadPatterns.<locals>.<lambda> at 0x7eff37306290>), ('fr_urea', <function _LoadPatterns.<locals>.<lambda> at 0x7eff373028c0>)]\n",
            "\n",
            "\n",
            "\n",
            "\n"
          ]
        },
        {
          "output_type": "execute_result",
          "data": {
            "text/plain": [
              "[('MaxEStateIndex', <function rdkit.Chem.EState.EState.MaxEStateIndex>),\n",
              " ('MinEStateIndex', <function rdkit.Chem.EState.EState.MinEStateIndex>),\n",
              " ('MaxAbsEStateIndex', <function rdkit.Chem.EState.EState.MaxAbsEStateIndex>),\n",
              " ('MinAbsEStateIndex', <function rdkit.Chem.EState.EState.MinAbsEStateIndex>),\n",
              " ('qed', <function rdkit.Chem.QED.qed>),\n",
              " ('MolWt', <function rdkit.Chem.Descriptors.<lambda>>),\n",
              " ('HeavyAtomMolWt', <function rdkit.Chem.Descriptors.HeavyAtomMolWt>),\n",
              " ('ExactMolWt', <function rdkit.Chem.Descriptors.<lambda>>),\n",
              " ('NumValenceElectrons',\n",
              "  <function rdkit.Chem.Descriptors.NumValenceElectrons>),\n",
              " ('NumRadicalElectrons',\n",
              "  <function rdkit.Chem.Descriptors.NumRadicalElectrons>),\n",
              " ('MaxPartialCharge', <function rdkit.Chem.Descriptors.MaxPartialCharge>),\n",
              " ('MinPartialCharge', <function rdkit.Chem.Descriptors.MinPartialCharge>),\n",
              " ('MaxAbsPartialCharge',\n",
              "  <function rdkit.Chem.Descriptors.MaxAbsPartialCharge>),\n",
              " ('MinAbsPartialCharge',\n",
              "  <function rdkit.Chem.Descriptors.MinAbsPartialCharge>),\n",
              " ('FpDensityMorgan1', <function rdkit.Chem.Descriptors.FpDensityMorgan1>),\n",
              " ('FpDensityMorgan2', <function rdkit.Chem.Descriptors.FpDensityMorgan2>),\n",
              " ('FpDensityMorgan3', <function rdkit.Chem.Descriptors.FpDensityMorgan3>),\n",
              " ('BCUT2D_MWHI',\n",
              "  <function rdkit.Chem.ChemUtils.DescriptorUtilities.BCUT2D_MWHI>),\n",
              " ('BCUT2D_MWLOW',\n",
              "  <function rdkit.Chem.ChemUtils.DescriptorUtilities.BCUT2D_MWLOW>),\n",
              " ('BCUT2D_CHGHI',\n",
              "  <function rdkit.Chem.ChemUtils.DescriptorUtilities.BCUT2D_CHGHI>),\n",
              " ('BCUT2D_CHGLO',\n",
              "  <function rdkit.Chem.ChemUtils.DescriptorUtilities.BCUT2D_CHGLO>),\n",
              " ('BCUT2D_LOGPHI',\n",
              "  <function rdkit.Chem.ChemUtils.DescriptorUtilities.BCUT2D_LOGPHI>),\n",
              " ('BCUT2D_LOGPLOW',\n",
              "  <function rdkit.Chem.ChemUtils.DescriptorUtilities.BCUT2D_LOGPLOW>),\n",
              " ('BCUT2D_MRHI',\n",
              "  <function rdkit.Chem.ChemUtils.DescriptorUtilities.BCUT2D_MRHI>),\n",
              " ('BCUT2D_MRLOW',\n",
              "  <function rdkit.Chem.ChemUtils.DescriptorUtilities.BCUT2D_MRLOW>),\n",
              " ('BalabanJ', <function rdkit.Chem.GraphDescriptors.BalabanJ>),\n",
              " ('BertzCT', <function rdkit.Chem.GraphDescriptors.BertzCT>),\n",
              " ('Chi0', <function rdkit.Chem.GraphDescriptors.Chi0>),\n",
              " ('Chi0n', <function rdkit.Chem.GraphDescriptors.<lambda>>),\n",
              " ('Chi0v', <function rdkit.Chem.GraphDescriptors.<lambda>>),\n",
              " ('Chi1', <function rdkit.Chem.GraphDescriptors.Chi1>),\n",
              " ('Chi1n', <function rdkit.Chem.GraphDescriptors.<lambda>>),\n",
              " ('Chi1v', <function rdkit.Chem.GraphDescriptors.<lambda>>),\n",
              " ('Chi2n', <function rdkit.Chem.GraphDescriptors.<lambda>>),\n",
              " ('Chi2v', <function rdkit.Chem.GraphDescriptors.<lambda>>),\n",
              " ('Chi3n', <function rdkit.Chem.GraphDescriptors.<lambda>>),\n",
              " ('Chi3v', <function rdkit.Chem.GraphDescriptors.<lambda>>),\n",
              " ('Chi4n', <function rdkit.Chem.GraphDescriptors.<lambda>>),\n",
              " ('Chi4v', <function rdkit.Chem.GraphDescriptors.<lambda>>),\n",
              " ('HallKierAlpha', <function rdkit.Chem.GraphDescriptors.<lambda>>),\n",
              " ('Ipc', <function rdkit.Chem.GraphDescriptors.Ipc>),\n",
              " ('Kappa1', <function rdkit.Chem.GraphDescriptors.<lambda>>),\n",
              " ('Kappa2', <function rdkit.Chem.GraphDescriptors.<lambda>>),\n",
              " ('Kappa3', <function rdkit.Chem.GraphDescriptors.<lambda>>),\n",
              " ('LabuteASA', <function rdkit.Chem.MolSurf.<lambda>>),\n",
              " ('PEOE_VSA1',\n",
              "  <function rdkit.Chem.MolSurf._InstallDescriptors.<locals>.<lambda>>),\n",
              " ('PEOE_VSA10',\n",
              "  <function rdkit.Chem.MolSurf._InstallDescriptors.<locals>.<lambda>>),\n",
              " ('PEOE_VSA11',\n",
              "  <function rdkit.Chem.MolSurf._InstallDescriptors.<locals>.<lambda>>),\n",
              " ('PEOE_VSA12',\n",
              "  <function rdkit.Chem.MolSurf._InstallDescriptors.<locals>.<lambda>>),\n",
              " ('PEOE_VSA13',\n",
              "  <function rdkit.Chem.MolSurf._InstallDescriptors.<locals>.<lambda>>),\n",
              " ('PEOE_VSA14',\n",
              "  <function rdkit.Chem.MolSurf._InstallDescriptors.<locals>.<lambda>>),\n",
              " ('PEOE_VSA2',\n",
              "  <function rdkit.Chem.MolSurf._InstallDescriptors.<locals>.<lambda>>),\n",
              " ('PEOE_VSA3',\n",
              "  <function rdkit.Chem.MolSurf._InstallDescriptors.<locals>.<lambda>>),\n",
              " ('PEOE_VSA4',\n",
              "  <function rdkit.Chem.MolSurf._InstallDescriptors.<locals>.<lambda>>),\n",
              " ('PEOE_VSA5',\n",
              "  <function rdkit.Chem.MolSurf._InstallDescriptors.<locals>.<lambda>>),\n",
              " ('PEOE_VSA6',\n",
              "  <function rdkit.Chem.MolSurf._InstallDescriptors.<locals>.<lambda>>),\n",
              " ('PEOE_VSA7',\n",
              "  <function rdkit.Chem.MolSurf._InstallDescriptors.<locals>.<lambda>>),\n",
              " ('PEOE_VSA8',\n",
              "  <function rdkit.Chem.MolSurf._InstallDescriptors.<locals>.<lambda>>),\n",
              " ('PEOE_VSA9',\n",
              "  <function rdkit.Chem.MolSurf._InstallDescriptors.<locals>.<lambda>>),\n",
              " ('SMR_VSA1',\n",
              "  <function rdkit.Chem.MolSurf._InstallDescriptors.<locals>.<lambda>>),\n",
              " ('SMR_VSA10',\n",
              "  <function rdkit.Chem.MolSurf._InstallDescriptors.<locals>.<lambda>>),\n",
              " ('SMR_VSA2',\n",
              "  <function rdkit.Chem.MolSurf._InstallDescriptors.<locals>.<lambda>>),\n",
              " ('SMR_VSA3',\n",
              "  <function rdkit.Chem.MolSurf._InstallDescriptors.<locals>.<lambda>>),\n",
              " ('SMR_VSA4',\n",
              "  <function rdkit.Chem.MolSurf._InstallDescriptors.<locals>.<lambda>>),\n",
              " ('SMR_VSA5',\n",
              "  <function rdkit.Chem.MolSurf._InstallDescriptors.<locals>.<lambda>>),\n",
              " ('SMR_VSA6',\n",
              "  <function rdkit.Chem.MolSurf._InstallDescriptors.<locals>.<lambda>>),\n",
              " ('SMR_VSA7',\n",
              "  <function rdkit.Chem.MolSurf._InstallDescriptors.<locals>.<lambda>>),\n",
              " ('SMR_VSA8',\n",
              "  <function rdkit.Chem.MolSurf._InstallDescriptors.<locals>.<lambda>>),\n",
              " ('SMR_VSA9',\n",
              "  <function rdkit.Chem.MolSurf._InstallDescriptors.<locals>.<lambda>>),\n",
              " ('SlogP_VSA1',\n",
              "  <function rdkit.Chem.MolSurf._InstallDescriptors.<locals>.<lambda>>),\n",
              " ('SlogP_VSA10',\n",
              "  <function rdkit.Chem.MolSurf._InstallDescriptors.<locals>.<lambda>>),\n",
              " ('SlogP_VSA11',\n",
              "  <function rdkit.Chem.MolSurf._InstallDescriptors.<locals>.<lambda>>),\n",
              " ('SlogP_VSA12',\n",
              "  <function rdkit.Chem.MolSurf._InstallDescriptors.<locals>.<lambda>>),\n",
              " ('SlogP_VSA2',\n",
              "  <function rdkit.Chem.MolSurf._InstallDescriptors.<locals>.<lambda>>),\n",
              " ('SlogP_VSA3',\n",
              "  <function rdkit.Chem.MolSurf._InstallDescriptors.<locals>.<lambda>>),\n",
              " ('SlogP_VSA4',\n",
              "  <function rdkit.Chem.MolSurf._InstallDescriptors.<locals>.<lambda>>),\n",
              " ('SlogP_VSA5',\n",
              "  <function rdkit.Chem.MolSurf._InstallDescriptors.<locals>.<lambda>>),\n",
              " ('SlogP_VSA6',\n",
              "  <function rdkit.Chem.MolSurf._InstallDescriptors.<locals>.<lambda>>),\n",
              " ('SlogP_VSA7',\n",
              "  <function rdkit.Chem.MolSurf._InstallDescriptors.<locals>.<lambda>>),\n",
              " ('SlogP_VSA8',\n",
              "  <function rdkit.Chem.MolSurf._InstallDescriptors.<locals>.<lambda>>),\n",
              " ('SlogP_VSA9',\n",
              "  <function rdkit.Chem.MolSurf._InstallDescriptors.<locals>.<lambda>>),\n",
              " ('TPSA', <function rdkit.Chem.MolSurf.<lambda>>),\n",
              " ('EState_VSA1', <function rdkit.Chem.EState.EState_VSA.EState_VSA1>),\n",
              " ('EState_VSA10', <function rdkit.Chem.EState.EState_VSA.EState_VSA10>),\n",
              " ('EState_VSA11', <function rdkit.Chem.EState.EState_VSA.EState_VSA11>),\n",
              " ('EState_VSA2', <function rdkit.Chem.EState.EState_VSA.EState_VSA2>),\n",
              " ('EState_VSA3', <function rdkit.Chem.EState.EState_VSA.EState_VSA3>),\n",
              " ('EState_VSA4', <function rdkit.Chem.EState.EState_VSA.EState_VSA4>),\n",
              " ('EState_VSA5', <function rdkit.Chem.EState.EState_VSA.EState_VSA5>),\n",
              " ('EState_VSA6', <function rdkit.Chem.EState.EState_VSA.EState_VSA6>),\n",
              " ('EState_VSA7', <function rdkit.Chem.EState.EState_VSA.EState_VSA7>),\n",
              " ('EState_VSA8', <function rdkit.Chem.EState.EState_VSA.EState_VSA8>),\n",
              " ('EState_VSA9', <function rdkit.Chem.EState.EState_VSA.EState_VSA9>),\n",
              " ('VSA_EState1',\n",
              "  <function rdkit.Chem.EState.EState_VSA._descriptor_VSA_EState.<locals>.VSA_EState_bin>),\n",
              " ('VSA_EState10',\n",
              "  <function rdkit.Chem.EState.EState_VSA._descriptor_VSA_EState.<locals>.VSA_EState_bin>),\n",
              " ('VSA_EState2',\n",
              "  <function rdkit.Chem.EState.EState_VSA._descriptor_VSA_EState.<locals>.VSA_EState_bin>),\n",
              " ('VSA_EState3',\n",
              "  <function rdkit.Chem.EState.EState_VSA._descriptor_VSA_EState.<locals>.VSA_EState_bin>),\n",
              " ('VSA_EState4',\n",
              "  <function rdkit.Chem.EState.EState_VSA._descriptor_VSA_EState.<locals>.VSA_EState_bin>),\n",
              " ('VSA_EState5',\n",
              "  <function rdkit.Chem.EState.EState_VSA._descriptor_VSA_EState.<locals>.VSA_EState_bin>),\n",
              " ('VSA_EState6',\n",
              "  <function rdkit.Chem.EState.EState_VSA._descriptor_VSA_EState.<locals>.VSA_EState_bin>),\n",
              " ('VSA_EState7',\n",
              "  <function rdkit.Chem.EState.EState_VSA._descriptor_VSA_EState.<locals>.VSA_EState_bin>),\n",
              " ('VSA_EState8',\n",
              "  <function rdkit.Chem.EState.EState_VSA._descriptor_VSA_EState.<locals>.VSA_EState_bin>),\n",
              " ('VSA_EState9',\n",
              "  <function rdkit.Chem.EState.EState_VSA._descriptor_VSA_EState.<locals>.VSA_EState_bin>),\n",
              " ('FractionCSP3', <function rdkit.Chem.Lipinski.<lambda>>),\n",
              " ('HeavyAtomCount', <function rdkit.Chem.Lipinski.HeavyAtomCount>),\n",
              " ('NHOHCount', <function rdkit.Chem.Lipinski.<lambda>>),\n",
              " ('NOCount', <function rdkit.Chem.Lipinski.<lambda>>),\n",
              " ('NumAliphaticCarbocycles', <function rdkit.Chem.Lipinski.<lambda>>),\n",
              " ('NumAliphaticHeterocycles', <function rdkit.Chem.Lipinski.<lambda>>),\n",
              " ('NumAliphaticRings', <function rdkit.Chem.Lipinski.<lambda>>),\n",
              " ('NumAromaticCarbocycles', <function rdkit.Chem.Lipinski.<lambda>>),\n",
              " ('NumAromaticHeterocycles', <function rdkit.Chem.Lipinski.<lambda>>),\n",
              " ('NumAromaticRings', <function rdkit.Chem.Lipinski.<lambda>>),\n",
              " ('NumHAcceptors', <function rdkit.Chem.Lipinski.<lambda>>),\n",
              " ('NumHDonors', <function rdkit.Chem.Lipinski.<lambda>>),\n",
              " ('NumHeteroatoms', <function rdkit.Chem.Lipinski.<lambda>>),\n",
              " ('NumRotatableBonds', <function rdkit.Chem.Lipinski.<lambda>>),\n",
              " ('NumSaturatedCarbocycles', <function rdkit.Chem.Lipinski.<lambda>>),\n",
              " ('NumSaturatedHeterocycles', <function rdkit.Chem.Lipinski.<lambda>>),\n",
              " ('NumSaturatedRings', <function rdkit.Chem.Lipinski.<lambda>>),\n",
              " ('RingCount', <function rdkit.Chem.Lipinski.<lambda>>),\n",
              " ('MolLogP', <function rdkit.Chem.Crippen.<lambda>>),\n",
              " ('MolMR', <function rdkit.Chem.Crippen.<lambda>>),\n",
              " ('fr_Al_COO',\n",
              "  <function rdkit.Chem.Fragments._LoadPatterns.<locals>.<lambda>>),\n",
              " ('fr_Al_OH', <function rdkit.Chem.Fragments._LoadPatterns.<locals>.<lambda>>),\n",
              " ('fr_Al_OH_noTert',\n",
              "  <function rdkit.Chem.Fragments._LoadPatterns.<locals>.<lambda>>),\n",
              " ('fr_ArN', <function rdkit.Chem.Fragments._LoadPatterns.<locals>.<lambda>>),\n",
              " ('fr_Ar_COO',\n",
              "  <function rdkit.Chem.Fragments._LoadPatterns.<locals>.<lambda>>),\n",
              " ('fr_Ar_N', <function rdkit.Chem.Fragments._LoadPatterns.<locals>.<lambda>>),\n",
              " ('fr_Ar_NH', <function rdkit.Chem.Fragments._LoadPatterns.<locals>.<lambda>>),\n",
              " ('fr_Ar_OH', <function rdkit.Chem.Fragments._LoadPatterns.<locals>.<lambda>>),\n",
              " ('fr_COO', <function rdkit.Chem.Fragments._LoadPatterns.<locals>.<lambda>>),\n",
              " ('fr_COO2', <function rdkit.Chem.Fragments._LoadPatterns.<locals>.<lambda>>),\n",
              " ('fr_C_O', <function rdkit.Chem.Fragments._LoadPatterns.<locals>.<lambda>>),\n",
              " ('fr_C_O_noCOO',\n",
              "  <function rdkit.Chem.Fragments._LoadPatterns.<locals>.<lambda>>),\n",
              " ('fr_C_S', <function rdkit.Chem.Fragments._LoadPatterns.<locals>.<lambda>>),\n",
              " ('fr_HOCCN', <function rdkit.Chem.Fragments._LoadPatterns.<locals>.<lambda>>),\n",
              " ('fr_Imine', <function rdkit.Chem.Fragments._LoadPatterns.<locals>.<lambda>>),\n",
              " ('fr_NH0', <function rdkit.Chem.Fragments._LoadPatterns.<locals>.<lambda>>),\n",
              " ('fr_NH1', <function rdkit.Chem.Fragments._LoadPatterns.<locals>.<lambda>>),\n",
              " ('fr_NH2', <function rdkit.Chem.Fragments._LoadPatterns.<locals>.<lambda>>),\n",
              " ('fr_N_O', <function rdkit.Chem.Fragments._LoadPatterns.<locals>.<lambda>>),\n",
              " ('fr_Ndealkylation1',\n",
              "  <function rdkit.Chem.Fragments._LoadPatterns.<locals>.<lambda>>),\n",
              " ('fr_Ndealkylation2',\n",
              "  <function rdkit.Chem.Fragments._LoadPatterns.<locals>.<lambda>>),\n",
              " ('fr_Nhpyrrole',\n",
              "  <function rdkit.Chem.Fragments._LoadPatterns.<locals>.<lambda>>),\n",
              " ('fr_SH', <function rdkit.Chem.Fragments._LoadPatterns.<locals>.<lambda>>),\n",
              " ('fr_aldehyde',\n",
              "  <function rdkit.Chem.Fragments._LoadPatterns.<locals>.<lambda>>),\n",
              " ('fr_alkyl_carbamate',\n",
              "  <function rdkit.Chem.Fragments._LoadPatterns.<locals>.<lambda>>),\n",
              " ('fr_alkyl_halide',\n",
              "  <function rdkit.Chem.Fragments._LoadPatterns.<locals>.<lambda>>),\n",
              " ('fr_allylic_oxid',\n",
              "  <function rdkit.Chem.Fragments._LoadPatterns.<locals>.<lambda>>),\n",
              " ('fr_amide', <function rdkit.Chem.Fragments._LoadPatterns.<locals>.<lambda>>),\n",
              " ('fr_amidine',\n",
              "  <function rdkit.Chem.Fragments._LoadPatterns.<locals>.<lambda>>),\n",
              " ('fr_aniline',\n",
              "  <function rdkit.Chem.Fragments._LoadPatterns.<locals>.<lambda>>),\n",
              " ('fr_aryl_methyl',\n",
              "  <function rdkit.Chem.Fragments._LoadPatterns.<locals>.<lambda>>),\n",
              " ('fr_azide', <function rdkit.Chem.Fragments._LoadPatterns.<locals>.<lambda>>),\n",
              " ('fr_azo', <function rdkit.Chem.Fragments._LoadPatterns.<locals>.<lambda>>),\n",
              " ('fr_barbitur',\n",
              "  <function rdkit.Chem.Fragments._LoadPatterns.<locals>.<lambda>>),\n",
              " ('fr_benzene',\n",
              "  <function rdkit.Chem.Fragments._LoadPatterns.<locals>.<lambda>>),\n",
              " ('fr_benzodiazepine',\n",
              "  <function rdkit.Chem.Fragments._LoadPatterns.<locals>.<lambda>>),\n",
              " ('fr_bicyclic',\n",
              "  <function rdkit.Chem.Fragments._LoadPatterns.<locals>.<lambda>>),\n",
              " ('fr_diazo', <function rdkit.Chem.Fragments._LoadPatterns.<locals>.<lambda>>),\n",
              " ('fr_dihydropyridine',\n",
              "  <function rdkit.Chem.Fragments._LoadPatterns.<locals>.<lambda>>),\n",
              " ('fr_epoxide',\n",
              "  <function rdkit.Chem.Fragments._LoadPatterns.<locals>.<lambda>>),\n",
              " ('fr_ester', <function rdkit.Chem.Fragments._LoadPatterns.<locals>.<lambda>>),\n",
              " ('fr_ether', <function rdkit.Chem.Fragments._LoadPatterns.<locals>.<lambda>>),\n",
              " ('fr_furan', <function rdkit.Chem.Fragments._LoadPatterns.<locals>.<lambda>>),\n",
              " ('fr_guanido',\n",
              "  <function rdkit.Chem.Fragments._LoadPatterns.<locals>.<lambda>>),\n",
              " ('fr_halogen',\n",
              "  <function rdkit.Chem.Fragments._LoadPatterns.<locals>.<lambda>>),\n",
              " ('fr_hdrzine',\n",
              "  <function rdkit.Chem.Fragments._LoadPatterns.<locals>.<lambda>>),\n",
              " ('fr_hdrzone',\n",
              "  <function rdkit.Chem.Fragments._LoadPatterns.<locals>.<lambda>>),\n",
              " ('fr_imidazole',\n",
              "  <function rdkit.Chem.Fragments._LoadPatterns.<locals>.<lambda>>),\n",
              " ('fr_imide', <function rdkit.Chem.Fragments._LoadPatterns.<locals>.<lambda>>),\n",
              " ('fr_isocyan',\n",
              "  <function rdkit.Chem.Fragments._LoadPatterns.<locals>.<lambda>>),\n",
              " ('fr_isothiocyan',\n",
              "  <function rdkit.Chem.Fragments._LoadPatterns.<locals>.<lambda>>),\n",
              " ('fr_ketone',\n",
              "  <function rdkit.Chem.Fragments._LoadPatterns.<locals>.<lambda>>),\n",
              " ('fr_ketone_Topliss',\n",
              "  <function rdkit.Chem.Fragments._LoadPatterns.<locals>.<lambda>>),\n",
              " ('fr_lactam',\n",
              "  <function rdkit.Chem.Fragments._LoadPatterns.<locals>.<lambda>>),\n",
              " ('fr_lactone',\n",
              "  <function rdkit.Chem.Fragments._LoadPatterns.<locals>.<lambda>>),\n",
              " ('fr_methoxy',\n",
              "  <function rdkit.Chem.Fragments._LoadPatterns.<locals>.<lambda>>),\n",
              " ('fr_morpholine',\n",
              "  <function rdkit.Chem.Fragments._LoadPatterns.<locals>.<lambda>>),\n",
              " ('fr_nitrile',\n",
              "  <function rdkit.Chem.Fragments._LoadPatterns.<locals>.<lambda>>),\n",
              " ('fr_nitro', <function rdkit.Chem.Fragments._LoadPatterns.<locals>.<lambda>>),\n",
              " ('fr_nitro_arom',\n",
              "  <function rdkit.Chem.Fragments._LoadPatterns.<locals>.<lambda>>),\n",
              " ('fr_nitro_arom_nonortho',\n",
              "  <function rdkit.Chem.Fragments._LoadPatterns.<locals>.<lambda>>),\n",
              " ('fr_nitroso',\n",
              "  <function rdkit.Chem.Fragments._LoadPatterns.<locals>.<lambda>>),\n",
              " ('fr_oxazole',\n",
              "  <function rdkit.Chem.Fragments._LoadPatterns.<locals>.<lambda>>),\n",
              " ('fr_oxime', <function rdkit.Chem.Fragments._LoadPatterns.<locals>.<lambda>>),\n",
              " ('fr_para_hydroxylation',\n",
              "  <function rdkit.Chem.Fragments._LoadPatterns.<locals>.<lambda>>),\n",
              " ('fr_phenol',\n",
              "  <function rdkit.Chem.Fragments._LoadPatterns.<locals>.<lambda>>),\n",
              " ('fr_phenol_noOrthoHbond',\n",
              "  <function rdkit.Chem.Fragments._LoadPatterns.<locals>.<lambda>>),\n",
              " ('fr_phos_acid',\n",
              "  <function rdkit.Chem.Fragments._LoadPatterns.<locals>.<lambda>>),\n",
              " ('fr_phos_ester',\n",
              "  <function rdkit.Chem.Fragments._LoadPatterns.<locals>.<lambda>>),\n",
              " ('fr_piperdine',\n",
              "  <function rdkit.Chem.Fragments._LoadPatterns.<locals>.<lambda>>),\n",
              " ('fr_piperzine',\n",
              "  <function rdkit.Chem.Fragments._LoadPatterns.<locals>.<lambda>>),\n",
              " ('fr_priamide',\n",
              "  <function rdkit.Chem.Fragments._LoadPatterns.<locals>.<lambda>>),\n",
              " ('fr_prisulfonamd',\n",
              "  <function rdkit.Chem.Fragments._LoadPatterns.<locals>.<lambda>>),\n",
              " ('fr_pyridine',\n",
              "  <function rdkit.Chem.Fragments._LoadPatterns.<locals>.<lambda>>),\n",
              " ('fr_quatN', <function rdkit.Chem.Fragments._LoadPatterns.<locals>.<lambda>>),\n",
              " ('fr_sulfide',\n",
              "  <function rdkit.Chem.Fragments._LoadPatterns.<locals>.<lambda>>),\n",
              " ('fr_sulfonamd',\n",
              "  <function rdkit.Chem.Fragments._LoadPatterns.<locals>.<lambda>>),\n",
              " ('fr_sulfone',\n",
              "  <function rdkit.Chem.Fragments._LoadPatterns.<locals>.<lambda>>),\n",
              " ('fr_term_acetylene',\n",
              "  <function rdkit.Chem.Fragments._LoadPatterns.<locals>.<lambda>>),\n",
              " ('fr_tetrazole',\n",
              "  <function rdkit.Chem.Fragments._LoadPatterns.<locals>.<lambda>>),\n",
              " ('fr_thiazole',\n",
              "  <function rdkit.Chem.Fragments._LoadPatterns.<locals>.<lambda>>),\n",
              " ('fr_thiocyan',\n",
              "  <function rdkit.Chem.Fragments._LoadPatterns.<locals>.<lambda>>),\n",
              " ('fr_thiophene',\n",
              "  <function rdkit.Chem.Fragments._LoadPatterns.<locals>.<lambda>>),\n",
              " ('fr_unbrch_alkane',\n",
              "  <function rdkit.Chem.Fragments._LoadPatterns.<locals>.<lambda>>),\n",
              " ('fr_urea', <function rdkit.Chem.Fragments._LoadPatterns.<locals>.<lambda>>)]"
            ]
          },
          "metadata": {},
          "execution_count": 44
        }
      ],
      "source": [
        "from rdkit.Chem import Descriptors\n",
        "\n",
        "print(Descriptors._descList)\n",
        "print(\"\\n\\n\\n\")\n",
        "Descriptors._descList"
      ]
    },
    {
      "cell_type": "markdown",
      "metadata": {
        "id": "XJdrb_qgiidX"
      },
      "source": [
        "Compute all descriptors in the _descList list of the paracetamol molecule using the MoleculeDescriptors.MolecularDescriptorCalculator class"
      ]
    },
    {
      "cell_type": "code",
      "execution_count": 45,
      "metadata": {
        "id": "91okRNINiidX"
      },
      "outputs": [],
      "source": [
        "all_descriptors = [ desc[0] for desc in Descriptors._descList]"
      ]
    },
    {
      "cell_type": "code",
      "source": [
        "from rdkit.ML.Descriptors.MoleculeDescriptors import MolecularDescriptorCalculator\n",
        "\n",
        "calculator = MolecularDescriptorCalculator(all_descriptors)\n",
        "calc = calculator.CalcDescriptors(morphine[0])"
      ],
      "metadata": {
        "id": "CLcxCFdNyMG-"
      },
      "execution_count": 60,
      "outputs": []
    },
    {
      "cell_type": "markdown",
      "metadata": {
        "id": "vQcACF5K3l1y"
      },
      "source": [
        "Display the names and the fvalues of the descriptors"
      ]
    },
    {
      "cell_type": "code",
      "execution_count": 61,
      "metadata": {
        "colab": {
          "base_uri": "https://localhost:8080/"
        },
        "id": "uKfd9F_93urZ",
        "outputId": "e006129c-3303-4c63-b425-8e01f32ec3fe"
      },
      "outputs": [
        {
          "output_type": "stream",
          "name": "stdout",
          "text": [
            "MaxEStateIndex: 10.440693027210884\n",
            "MinEStateIndex: -0.5943924792139084\n",
            "MaxAbsEStateIndex: 10.440693027210884\n",
            "MinAbsEStateIndex: 0.1597222222222221\n",
            "qed: 0.7033474919154648\n",
            "MolWt: 285.34299999999996\n",
            "HeavyAtomMolWt: 266.191\n",
            "ExactMolWt: 285.136493468\n",
            "NumValenceElectrons: 110\n",
            "NumRadicalElectrons: 0\n",
            "MaxPartialCharge: 0.1652428909596224\n",
            "MinPartialCharge: -0.5042466595879944\n",
            "MaxAbsPartialCharge: 0.5042466595879944\n",
            "MinAbsPartialCharge: 0.1652428909596224\n",
            "FpDensityMorgan1: 1.3333333333333333\n",
            "FpDensityMorgan2: 2.1904761904761907\n",
            "FpDensityMorgan3: 3.0476190476190474\n",
            "BCUT2D_MWHI: 16.516853102099954\n",
            "BCUT2D_MWLOW: 9.53113651260579\n",
            "BCUT2D_CHGHI: 2.636111461135519\n",
            "BCUT2D_CHGLO: -2.5601210424889\n",
            "BCUT2D_LOGPHI: 2.617132894412904\n",
            "BCUT2D_LOGPLOW: -2.6431440356017544\n",
            "BCUT2D_MRHI: 5.612054247185539\n",
            "BCUT2D_MRLOW: -0.04529371357624026\n",
            "BalabanJ: 1.8445254467475667\n",
            "BertzCT: 670.2442212037415\n",
            "Chi0: 14.353006672199017\n",
            "Chi0n: 11.990011574040388\n",
            "Chi0v: 11.990011574040388\n",
            "Chi1: 10.125864216121357\n",
            "Chi1n: 7.713327954418207\n",
            "Chi1v: 7.713327954418207\n",
            "Chi2n: 6.930110293573662\n",
            "Chi2v: 6.930110293573662\n",
            "Chi3n: 6.1497382486584184\n",
            "Chi3v: 6.1497382486584184\n",
            "Chi4n: 5.23841557070925\n",
            "Chi4v: 5.23841557070925\n",
            "HallKierAlpha: -1.5199999999999996\n",
            "Ipc: 132503.36197293294\n",
            "Kappa1: 12.066927436884919\n",
            "Kappa2: 3.622684688180387\n",
            "Kappa3: 1.2071641349925186\n",
            "LabuteASA: 123.19468513566075\n",
            "PEOE_VSA1: 19.84982747433194\n",
            "PEOE_VSA10: 12.207932775496605\n",
            "PEOE_VSA11: 11.49902366656781\n",
            "PEOE_VSA12: 0.0\n",
            "PEOE_VSA13: 0.0\n",
            "PEOE_VSA14: 0.0\n",
            "PEOE_VSA2: 0.0\n",
            "PEOE_VSA3: 0.0\n",
            "PEOE_VSA4: 0.0\n",
            "PEOE_VSA5: 0.0\n",
            "PEOE_VSA6: 18.218407282129373\n",
            "PEOE_VSA7: 38.06389019460039\n",
            "PEOE_VSA8: 22.93818883640313\n",
            "PEOE_VSA9: 0.0\n",
            "SMR_VSA1: 14.94991774348146\n",
            "SMR_VSA10: 0.0\n",
            "SMR_VSA2: 0.0\n",
            "SMR_VSA3: 4.899909730850478\n",
            "SMR_VSA4: 5.917906046161393\n",
            "SMR_VSA5: 36.50640731989336\n",
            "SMR_VSA6: 13.592428388589765\n",
            "SMR_VSA7: 35.411677333984976\n",
            "SMR_VSA8: 0.0\n",
            "SMR_VSA9: 11.49902366656781\n",
            "SlogP_VSA1: 4.736862953800049\n",
            "SlogP_VSA10: 0.0\n",
            "SlogP_VSA11: 11.49902366656781\n",
            "SlogP_VSA12: 0.0\n",
            "SlogP_VSA2: 46.955166513766216\n",
            "SlogP_VSA3: 11.83581209232279\n",
            "SlogP_VSA4: 5.917906046161393\n",
            "SlogP_VSA5: 17.54772460632\n",
            "SlogP_VSA6: 24.284774350590983\n",
            "SlogP_VSA7: 0.0\n",
            "SlogP_VSA8: 0.0\n",
            "SlogP_VSA9: 0.0\n",
            "TPSA: 52.93\n",
            "EState_VSA1: 6.103966387748303\n",
            "EState_VSA10: 10.213054789681411\n",
            "EState_VSA11: 0.0\n",
            "EState_VSA2: 17.268468690428985\n",
            "EState_VSA3: 17.709258708593257\n",
            "EState_VSA4: 19.386399651764595\n",
            "EState_VSA5: 11.126902983393991\n",
            "EState_VSA6: 6.06636706846161\n",
            "EState_VSA7: 12.142387175295491\n",
            "EState_VSA8: 18.02360182036155\n",
            "EState_VSA9: 4.736862953800049\n",
            "VSA_EState1: 6.087093726379441\n",
            "VSA_EState10: 0.0\n",
            "VSA_EState2: 2.4333413643235073\n",
            "VSA_EState3: 20.64851773116654\n",
            "VSA_EState4: 2.2901388888888894\n",
            "VSA_EState5: 1.1891723356009076\n",
            "VSA_EState6: 4.225751606198035\n",
            "VSA_EState7: 5.177912887377172\n",
            "VSA_EState8: 1.0100425170068028\n",
            "VSA_EState9: 2.188028943058705\n",
            "FractionCSP3: 0.5294117647058824\n",
            "HeavyAtomCount: 21\n",
            "NHOHCount: 2\n",
            "NOCount: 4\n",
            "NumAliphaticCarbocycles: 2\n",
            "NumAliphaticHeterocycles: 2\n",
            "NumAliphaticRings: 4\n",
            "NumAromaticCarbocycles: 1\n",
            "NumAromaticHeterocycles: 0\n",
            "NumAromaticRings: 1\n",
            "NumHAcceptors: 4\n",
            "NumHDonors: 2\n",
            "NumHeteroatoms: 4\n",
            "NumRotatableBonds: 0\n",
            "NumSaturatedCarbocycles: 0\n",
            "NumSaturatedHeterocycles: 1\n",
            "NumSaturatedRings: 1\n",
            "RingCount: 5\n",
            "MolLogP: 1.1980999999999997\n",
            "MolMR: 77.57660000000004\n",
            "fr_Al_COO: 0\n",
            "fr_Al_OH: 1\n",
            "fr_Al_OH_noTert: 1\n",
            "fr_ArN: 0\n",
            "fr_Ar_COO: 0\n",
            "fr_Ar_N: 0\n",
            "fr_Ar_NH: 0\n",
            "fr_Ar_OH: 1\n",
            "fr_COO: 0\n",
            "fr_COO2: 0\n",
            "fr_C_O: 0\n",
            "fr_C_O_noCOO: 0\n",
            "fr_C_S: 0\n",
            "fr_HOCCN: 0\n",
            "fr_Imine: 0\n",
            "fr_NH0: 1\n",
            "fr_NH1: 0\n",
            "fr_NH2: 0\n",
            "fr_N_O: 0\n",
            "fr_Ndealkylation1: 1\n",
            "fr_Ndealkylation2: 1\n",
            "fr_Nhpyrrole: 0\n",
            "fr_SH: 0\n",
            "fr_aldehyde: 0\n",
            "fr_alkyl_carbamate: 0\n",
            "fr_alkyl_halide: 0\n",
            "fr_allylic_oxid: 0\n",
            "fr_amide: 0\n",
            "fr_amidine: 0\n",
            "fr_aniline: 0\n",
            "fr_aryl_methyl: 0\n",
            "fr_azide: 0\n",
            "fr_azo: 0\n",
            "fr_barbitur: 0\n",
            "fr_benzene: 1\n",
            "fr_benzodiazepine: 0\n",
            "fr_bicyclic: 0\n",
            "fr_diazo: 0\n",
            "fr_dihydropyridine: 0\n",
            "fr_epoxide: 0\n",
            "fr_ester: 0\n",
            "fr_ether: 1\n",
            "fr_furan: 0\n",
            "fr_guanido: 0\n",
            "fr_halogen: 0\n",
            "fr_hdrzine: 0\n",
            "fr_hdrzone: 0\n",
            "fr_imidazole: 0\n",
            "fr_imide: 0\n",
            "fr_isocyan: 0\n",
            "fr_isothiocyan: 0\n",
            "fr_ketone: 0\n",
            "fr_ketone_Topliss: 0\n",
            "fr_lactam: 0\n",
            "fr_lactone: 0\n",
            "fr_methoxy: 0\n",
            "fr_morpholine: 0\n",
            "fr_nitrile: 0\n",
            "fr_nitro: 0\n",
            "fr_nitro_arom: 0\n",
            "fr_nitro_arom_nonortho: 0\n",
            "fr_nitroso: 0\n",
            "fr_oxazole: 0\n",
            "fr_oxime: 0\n",
            "fr_para_hydroxylation: 0\n",
            "fr_phenol: 1\n",
            "fr_phenol_noOrthoHbond: 1\n",
            "fr_phos_acid: 0\n",
            "fr_phos_ester: 0\n",
            "fr_piperdine: 1\n",
            "fr_piperzine: 0\n",
            "fr_priamide: 0\n",
            "fr_prisulfonamd: 0\n",
            "fr_pyridine: 0\n",
            "fr_quatN: 0\n",
            "fr_sulfide: 0\n",
            "fr_sulfonamd: 0\n",
            "fr_sulfone: 0\n",
            "fr_term_acetylene: 0\n",
            "fr_tetrazole: 0\n",
            "fr_thiazole: 0\n",
            "fr_thiocyan: 0\n",
            "fr_thiophene: 0\n",
            "fr_unbrch_alkane: 0\n",
            "fr_urea: 0\n"
          ]
        }
      ],
      "source": [
        "for i in range(len(all_descriptors)):\n",
        "    print(all_descriptors[i], end=\": \")\n",
        "    print(calc[i])"
      ]
    },
    {
      "cell_type": "markdown",
      "metadata": {
        "id": "gljbmF6p3RX8"
      },
      "source": [
        "### Fingerprinting\n",
        "\n",
        "\n",
        "A chemical structure can be characterized by a set of numerical values known as molecular fingerprints. They may be 2D Fragment-based fingerprints presented by bit arrays of 0s and 1s wherein each bit position indicates the presence or absence of structural fragments.\n",
        "\n",
        "\n",
        "The RDKit has a variety of built-in functionality for generating molecular fingerprints and then using them to calculate molecular similarity. In this exercise, we will generate the fingerprints for parcetamol and aspirin that are two popular drugs used for pains.\n",
        "\n",
        "\n"
      ]
    },
    {
      "cell_type": "code",
      "execution_count": 62,
      "metadata": {
        "id": "MryW0haSiidY"
      },
      "outputs": [],
      "source": [
        "from rdkit.Chem.AllChem import GetMorganFingerprintAsBitVect"
      ]
    },
    {
      "cell_type": "markdown",
      "metadata": {
        "id": "u79sKem1iidY"
      },
      "source": [
        "\n",
        "With the help of rdkit.Chem.AllChem.GetMorganFingerprintAsBitVect, compute its fingerprint as a bit vector. "
      ]
    },
    {
      "cell_type": "code",
      "execution_count": 65,
      "metadata": {
        "id": "On2jo4eoiidY"
      },
      "outputs": [],
      "source": [
        "fp_paracetamol = GetMorganFingerprintAsBitVect(morphine[0], 2)"
      ]
    },
    {
      "cell_type": "markdown",
      "metadata": {
        "id": "nupE8y5tiidY"
      },
      "source": [
        "Display its type"
      ]
    },
    {
      "cell_type": "code",
      "execution_count": 66,
      "metadata": {
        "colab": {
          "base_uri": "https://localhost:8080/"
        },
        "id": "Tev1bWf7uEod",
        "outputId": "77cd3f1f-7808-44c5-d228-737fa92de14a"
      },
      "outputs": [
        {
          "output_type": "stream",
          "name": "stdout",
          "text": [
            "We have the following type :  <class 'rdkit.DataStructs.cDataStructs.ExplicitBitVect'>\n"
          ]
        }
      ],
      "source": [
        "print(\"We have the following type : \", type(fp_paracetamol))"
      ]
    },
    {
      "cell_type": "markdown",
      "metadata": {
        "id": "3Yy0AhDGiidY"
      },
      "source": [
        "With the DataStructs module convert it to a numpy vector and display it shape and display it"
      ]
    },
    {
      "cell_type": "code",
      "execution_count": 70,
      "metadata": {
        "colab": {
          "base_uri": "https://localhost:8080/"
        },
        "id": "9Cb8JDUe0pOw",
        "outputId": "8f6adbfb-28c9-4397-f48c-b1bfa50f705c"
      },
      "outputs": [
        {
          "output_type": "stream",
          "name": "stdout",
          "text": [
            "[0 0 0 ... 0 0 0]\n"
          ]
        }
      ],
      "source": [
        "import numpy\n",
        "from rdkit import DataStructs\n",
        "\n",
        "vector_paracetamol = numpy.array(fp_paracetamol)\n",
        "print(vector_paracetamol)"
      ]
    },
    {
      "cell_type": "markdown",
      "metadata": {
        "id": "4tBJZgOXiidZ"
      },
      "source": [
        "Create a function smiles_to_np_morganfingerprinting which takes a smile representation and gives back the numpy version of the morgan finger_printing"
      ]
    },
    {
      "cell_type": "code",
      "execution_count": 71,
      "metadata": {
        "id": "t25cBnhxiidZ"
      },
      "outputs": [],
      "source": [
        "def smiles_to_np_morganfinderprinting(smile_mol):\n",
        "\n",
        "    real_mol = Chem.MolFromSmiles(smile_mol)\n",
        "    fp_mol = GetMorganFingerprintAsBitVect(real_mol, 2)\n",
        "    vector_mol = numpy.array(fp_mol)\n",
        "    return vector_mol"
      ]
    },
    {
      "cell_type": "markdown",
      "metadata": {
        "id": "aDpA9lh2iidZ"
      },
      "source": [
        "Compute the morgan finger printing of the aspirin (CC(=O)OC1=CC=CC=C1C(O)=O) and paracetamol (CC(=O)NC1=CC=C(O)C=C1)"
      ]
    },
    {
      "cell_type": "code",
      "execution_count": 73,
      "metadata": {
        "id": "8PALjOz5232Z",
        "colab": {
          "base_uri": "https://localhost:8080/"
        },
        "outputId": "0c148ca7-f7c9-443a-a092-5f127211c5fb"
      },
      "outputs": [
        {
          "output_type": "stream",
          "name": "stdout",
          "text": [
            "[0 0 0 ... 0 0 0]\n"
          ]
        }
      ],
      "source": [
        "fp_aspirin = smiles_to_np_morganfinderprinting(\"CC(=O)OC1=CC=CC=C1C(O)=O\")\n",
        "print(fp_aspirin)"
      ]
    },
    {
      "cell_type": "code",
      "source": [
        "fp_paracetamol = smiles_to_np_morganfinderprinting(\"CC(=O)NC1=CC=C(O)C=C1\")\n",
        "print(fp_paracetamol)"
      ],
      "metadata": {
        "colab": {
          "base_uri": "https://localhost:8080/"
        },
        "id": "ik72nSNL1x6B",
        "outputId": "ecbe44c4-fb25-4350-b8e9-bb67fe6cc4c6"
      },
      "execution_count": 75,
      "outputs": [
        {
          "output_type": "stream",
          "name": "stdout",
          "text": [
            "[0 0 0 ... 0 0 0]\n"
          ]
        }
      ]
    },
    {
      "cell_type": "markdown",
      "metadata": {
        "id": "RHETg5mdiidZ"
      },
      "source": [
        "Compute the DiceSimilarity of the two molecules"
      ]
    },
    {
      "cell_type": "code",
      "execution_count": 80,
      "metadata": {
        "id": "fxnxfRjq3jDa"
      },
      "outputs": [],
      "source": [
        "def smiles_to_fp(smile_mol):\n",
        "\n",
        "    real_mol = Chem.MolFromSmiles(smile_mol)\n",
        "    fp_mol = GetMorganFingerprintAsBitVect(real_mol, 2)\n",
        "\n",
        "    return fp_mol"
      ]
    },
    {
      "cell_type": "code",
      "source": [
        "fp_aspirin = smiles_to_fp(\"CC(=O)OC1=CC=CC=C1C(O)=O\")\n",
        "print(fp_aspirin)\n",
        "\n",
        "fp_paracetamol = smiles_to_fp(\"CC(=O)NC1=CC=C(O)C=C1\")\n",
        "print(fp_paracetamol)"
      ],
      "metadata": {
        "colab": {
          "base_uri": "https://localhost:8080/"
        },
        "id": "cshrUCDb2h87",
        "outputId": "95fd7004-fd4c-4a9c-967b-a74915559e11"
      },
      "execution_count": 81,
      "outputs": [
        {
          "output_type": "stream",
          "name": "stdout",
          "text": [
            "<rdkit.DataStructs.cDataStructs.ExplicitBitVect object at 0x7eff3720e080>\n",
            "<rdkit.DataStructs.cDataStructs.ExplicitBitVect object at 0x7eff333f6080>\n"
          ]
        }
      ]
    },
    {
      "cell_type": "code",
      "source": [
        "print(\"We have the following dicesimilarity : \", rdkit.DataStructs.DiceSimilarity(fp_aspirin, fp_paracetamol))"
      ],
      "metadata": {
        "colab": {
          "base_uri": "https://localhost:8080/"
        },
        "id": "sCQPMsmI2q5u",
        "outputId": "44adea56-feba-459c-8679-3145286242ed"
      },
      "execution_count": 84,
      "outputs": [
        {
          "output_type": "stream",
          "name": "stdout",
          "text": [
            "We have the following dicesimilarity :  0.36363636363636365\n"
          ]
        }
      ]
    },
    {
      "cell_type": "markdown",
      "metadata": {
        "id": "SvHtYagP31vo"
      },
      "source": [
        "### SMART\n",
        "\n",
        "In many commonly used applications, we need to determine whether atoms in a molecule match a particular pattern. It can be used for filtering structures or identifying substructures that are associated with toxicological problem.\n",
        "\n",
        "SMART us an extension of the SMILES language that can be used to create queries.\n"
      ]
    },
    {
      "cell_type": "markdown",
      "metadata": {
        "id": "TEG7Y07Uiida"
      },
      "source": [
        "\n",
        "Find molecules in the following list named \"smiles_list\" that contain the \"CCC\" pattern (you can use the GetSubstructMatch class).\n"
      ]
    },
    {
      "cell_type": "code",
      "execution_count": null,
      "metadata": {
        "id": "4XJq08_miida"
      },
      "outputs": [],
      "source": [
        ""
      ]
    },
    {
      "cell_type": "markdown",
      "metadata": {
        "id": "J7IdbrRciida"
      },
      "source": [
        "\n",
        "\n",
        "Highlight the pattern \"CCC\" in these molecules.\n",
        "\n"
      ]
    },
    {
      "cell_type": "code",
      "execution_count": null,
      "metadata": {
        "id": "RneKXv_jiida"
      },
      "outputs": [],
      "source": [
        ""
      ]
    },
    {
      "cell_type": "markdown",
      "metadata": {
        "id": "_fJB6X9riida"
      },
      "source": [
        "\n",
        "Do the same thing ex 1 but for the pattern \"C(=O)N\"."
      ]
    },
    {
      "cell_type": "code",
      "execution_count": null,
      "metadata": {
        "id": "mXqKwAO03xQi"
      },
      "outputs": [],
      "source": [
        ""
      ]
    }
  ],
  "metadata": {
    "colab": {
      "collapsed_sections": [],
      "name": "Rdkit_exercise_leherle_maxime.ipynb",
      "provenance": []
    },
    "kernelspec": {
      "display_name": "Python 3",
      "language": "python",
      "name": "python3"
    },
    "language_info": {
      "codemirror_mode": {
        "name": "ipython",
        "version": 3
      },
      "file_extension": ".py",
      "mimetype": "text/x-python",
      "name": "python",
      "nbconvert_exporter": "python",
      "pygments_lexer": "ipython3",
      "version": "3.9.2"
    }
  },
  "nbformat": 4,
  "nbformat_minor": 0
}